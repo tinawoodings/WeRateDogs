{
 "cells": [
  {
   "cell_type": "markdown",
   "metadata": {},
   "source": [
    "# Project: WeRateDogs Twitter data\n",
    "\n",
    "## Table of Contents\n",
    "<ul>\n",
    "<li><a href=\"#intro\">Introduction</a></li>\n",
    "<li><a href=\"#wrangling\">Data Wrangling and Cleaning</a></li>\n",
    "<li><a href=\"#eda\">Exploratory Data Analysis</a></li>\n",
    "<li><a href=\"#conclusions\">Conclusions</a></li>\n",
    "</ul>"
   ]
  },
  {
   "cell_type": "markdown",
   "metadata": {},
   "source": [
    "<a id='intro'></a>\n",
    "## Introduction\n",
    "\n",
    "WeRateDogs is a super popular twitter handle that will brighten anyone's day (even if you are a cat lover). In an effort to understand it's popularity, I will analyze information pulled from the twitter API, data produced from an image predition algorithm and twitter archive data. Some questions I am hoping to answer are:\n",
    "\n",
    "1. What is the relationship between retweet_count and favorite_count?\n",
    "2. What is the relationship between confidence value and whether the image was identified?\n",
    "3. Which breed of dogs gets most retweeted?\n",
    "4. At what time of day do tweets get the most favorites?"
   ]
  },
  {
   "cell_type": "markdown",
   "metadata": {},
   "source": [
    "<a id='wrangling'></a>\n",
    "## Data Wrangling and Cleaning\n",
    "\n",
    "In this section, I'll first read in the necessary files, utilize the Twitter API to pull tweet data. Then I will assess the data to see what cleaning and wrangling needs to occur. Next, I will then list out the quality and tidiness issues and tackle them one by one through defining, coding and testing. The finished product will be a clean \"twitter_archive_master.csv\" file ready to be analyzed."
   ]
  },
  {
   "cell_type": "code",
   "execution_count": 144,
   "metadata": {},
   "outputs": [],
   "source": [
    "import pandas as pd\n",
    "import numpy as np\n",
    "import requests\n",
    "import tweepy\n",
    "import json\n",
    "import os\n",
    "import sys\n",
    "import datetime\n",
    "import csv\n",
    "from timeit import default_timer as timer\n",
    "import seaborn as sb\n",
    "import statsmodels.api as sm\n",
    "import matplotlib.pyplot as plt\n",
    "%matplotlib inline\n",
    "from tweepy import OAuthHandler\n",
    "\n",
    "# suppress warnings from final output\n",
    "import warnings\n",
    "warnings.simplefilter(\"ignore\")"
   ]
  },
  {
   "cell_type": "markdown",
   "metadata": {},
   "source": [
    "### Gathering Data\n",
    "#### Gathering Data from file"
   ]
  },
  {
   "cell_type": "code",
   "execution_count": 145,
   "metadata": {},
   "outputs": [],
   "source": [
    "twitter_ae = pd.read_csv('twitter-archive-enhanced.csv')"
   ]
  },
  {
   "cell_type": "code",
   "execution_count": 146,
   "metadata": {},
   "outputs": [],
   "source": [
    "df1 = twitter_ae.copy()"
   ]
  },
  {
   "cell_type": "markdown",
   "metadata": {},
   "source": [
    "#### Download file from website using Requests"
   ]
  },
  {
   "cell_type": "code",
   "execution_count": 147,
   "metadata": {},
   "outputs": [],
   "source": [
    "response= requests.get('https://d17h27t6h515a5.cloudfront.net/topher/2017/August/599fd2ad_image-predictions/image-predictions.tsv')"
   ]
  },
  {
   "cell_type": "code",
   "execution_count": 148,
   "metadata": {},
   "outputs": [
    {
     "data": {
      "text/plain": [
       "200"
      ]
     },
     "execution_count": 148,
     "metadata": {},
     "output_type": "execute_result"
    }
   ],
   "source": [
    "response.status_code"
   ]
  },
  {
   "cell_type": "code",
   "execution_count": 149,
   "metadata": {},
   "outputs": [
    {
     "data": {
      "text/plain": [
       "'text/tab-separated-values; charset=utf-8'"
      ]
     },
     "execution_count": 149,
     "metadata": {},
     "output_type": "execute_result"
    }
   ],
   "source": [
    "response.headers['content-type']"
   ]
  },
  {
   "cell_type": "code",
   "execution_count": 150,
   "metadata": {},
   "outputs": [],
   "source": [
    "with open(\"image-predictions.tsv\", mode = 'wb') as file:\n",
    "    file.write(response.content)"
   ]
  },
  {
   "cell_type": "code",
   "execution_count": 151,
   "metadata": {},
   "outputs": [],
   "source": [
    "image_predict = pd.read_csv(\"image-predictions.tsv\", sep = '\\t')"
   ]
  },
  {
   "cell_type": "code",
   "execution_count": 152,
   "metadata": {},
   "outputs": [],
   "source": [
    "df2 = image_predict.copy()"
   ]
  },
  {
   "cell_type": "markdown",
   "metadata": {},
   "source": [
    "#### Gather data from twitter API using Tweepy library"
   ]
  },
  {
   "cell_type": "code",
   "execution_count": 30,
   "metadata": {},
   "outputs": [],
   "source": [
    "# Opening Json file\n",
    "with open('twitter_credentials.json') as cred_data:\n",
    "    info = json.load(cred_data)\n",
    "    consumer_key = info['CONSUMER_KEY']\n",
    "    consumer_secret = info['CONSUMER_SECRET']\n",
    "    access_key = info['ACCESS_KEY']\n",
    "    access_secret = info['ACCESS_SECRET']"
   ]
  },
  {
   "cell_type": "code",
   "execution_count": null,
   "metadata": {},
   "outputs": [],
   "source": [
    "auth = OAuthHandler(consumer_key, consumer_secret)\n",
    "auth.set_access_token(access_key, access_secret)\n",
    "\n",
    "api = tweepy.API(auth, wait_on_rate_limit=True)\n",
    "\n",
    "tweet_ids = twitter_ae.tweet_id.values\n",
    "len(tweet_ids)\n",
    "\n",
    "# Query Twitter's API for JSON data for each tweet ID in the Twitter archive\n",
    "count = 0\n",
    "fails_dict = {}\n",
    "start = timer()\n",
    "# Save each tweet's returned JSON as a new line in a .txt file\n",
    "with open('tweet_json.txt', 'w') as outfile:\n",
    "    # This loop will likely take 20-30 minutes to run because of Twitter's rate limit\n",
    "    for tweet_id in tweet_ids:\n",
    "        count += 1\n",
    "        print(str(count) + \": \" + str(tweet_id))\n",
    "        try:\n",
    "            tweet = api.get_status(tweet_id, tweet_mode='extended')\n",
    "            print(\"Success\")\n",
    "            json.dump(tweet._json, outfile)\n",
    "            outfile.write('\\n')\n",
    "        except tweepy.TweepError as e:\n",
    "            print(\"Fail\")\n",
    "            fails_dict[tweet_id] = e\n",
    "            pass\n",
    "end = timer()\n",
    "print(end - start)\n",
    "print(fails_dict)"
   ]
  },
  {
   "cell_type": "code",
   "execution_count": 153,
   "metadata": {},
   "outputs": [],
   "source": [
    "df3 = pd.DataFrame(columns=['tweet_id', 'retweet_count', 'favorite_count'])\n",
    "with open('tweet_json.txt') as f:\n",
    "    for line in f:\n",
    "        status  = json.loads(line)\n",
    "        tweet_id = status['id_str']\n",
    "        retweet_count = status['retweet_count']\n",
    "        favorite_count = status['favorite_count']\n",
    "        df3 = df3.append(pd.DataFrame([[tweet_id, retweet_count, favorite_count]],\n",
    "                                        columns=['tweet_id', 'retweet_count', 'favorite_count']))\n",
    "df3 = df3.reset_index(drop=True)"
   ]
  },
  {
   "cell_type": "markdown",
   "metadata": {},
   "source": [
    "### Assessing Data\n",
    "#### df1 (Archived)"
   ]
  },
  {
   "cell_type": "code",
   "execution_count": 154,
   "metadata": {
    "scrolled": true
   },
   "outputs": [
    {
     "data": {
      "text/html": [
       "<div>\n",
       "<style scoped>\n",
       "    .dataframe tbody tr th:only-of-type {\n",
       "        vertical-align: middle;\n",
       "    }\n",
       "\n",
       "    .dataframe tbody tr th {\n",
       "        vertical-align: top;\n",
       "    }\n",
       "\n",
       "    .dataframe thead th {\n",
       "        text-align: right;\n",
       "    }\n",
       "</style>\n",
       "<table border=\"1\" class=\"dataframe\">\n",
       "  <thead>\n",
       "    <tr style=\"text-align: right;\">\n",
       "      <th></th>\n",
       "      <th>tweet_id</th>\n",
       "      <th>in_reply_to_status_id</th>\n",
       "      <th>in_reply_to_user_id</th>\n",
       "      <th>timestamp</th>\n",
       "      <th>source</th>\n",
       "      <th>text</th>\n",
       "      <th>retweeted_status_id</th>\n",
       "      <th>retweeted_status_user_id</th>\n",
       "      <th>retweeted_status_timestamp</th>\n",
       "      <th>expanded_urls</th>\n",
       "      <th>rating_numerator</th>\n",
       "      <th>rating_denominator</th>\n",
       "      <th>name</th>\n",
       "      <th>doggo</th>\n",
       "      <th>floofer</th>\n",
       "      <th>pupper</th>\n",
       "      <th>puppo</th>\n",
       "    </tr>\n",
       "  </thead>\n",
       "  <tbody>\n",
       "    <tr>\n",
       "      <th>1354</th>\n",
       "      <td>703631701117943808</td>\n",
       "      <td>NaN</td>\n",
       "      <td>NaN</td>\n",
       "      <td>2016-02-27 17:24:05 +0000</td>\n",
       "      <td>&lt;a href=\"http://twitter.com/download/iphone\" r...</td>\n",
       "      <td>This is Bella. Based on this picture she's at ...</td>\n",
       "      <td>NaN</td>\n",
       "      <td>NaN</td>\n",
       "      <td>NaN</td>\n",
       "      <td>https://twitter.com/dog_rates/status/703631701...</td>\n",
       "      <td>11</td>\n",
       "      <td>10</td>\n",
       "      <td>Bella</td>\n",
       "      <td>None</td>\n",
       "      <td>None</td>\n",
       "      <td>None</td>\n",
       "      <td>None</td>\n",
       "    </tr>\n",
       "    <tr>\n",
       "      <th>1046</th>\n",
       "      <td>743545585370791937</td>\n",
       "      <td>NaN</td>\n",
       "      <td>NaN</td>\n",
       "      <td>2016-06-16 20:47:36 +0000</td>\n",
       "      <td>&lt;a href=\"http://twitter.com/download/iphone\" r...</td>\n",
       "      <td>Say hello to Bentley and Millie. They do every...</td>\n",
       "      <td>NaN</td>\n",
       "      <td>NaN</td>\n",
       "      <td>NaN</td>\n",
       "      <td>https://twitter.com/dog_rates/status/743545585...</td>\n",
       "      <td>11</td>\n",
       "      <td>10</td>\n",
       "      <td>Bentley</td>\n",
       "      <td>None</td>\n",
       "      <td>None</td>\n",
       "      <td>None</td>\n",
       "      <td>None</td>\n",
       "    </tr>\n",
       "    <tr>\n",
       "      <th>408</th>\n",
       "      <td>823581115634085888</td>\n",
       "      <td>NaN</td>\n",
       "      <td>NaN</td>\n",
       "      <td>2017-01-23 17:20:14 +0000</td>\n",
       "      <td>&lt;a href=\"http://twitter.com/download/iphone\" r...</td>\n",
       "      <td>This is Crawford. He's quite h*ckin good at th...</td>\n",
       "      <td>NaN</td>\n",
       "      <td>NaN</td>\n",
       "      <td>NaN</td>\n",
       "      <td>https://twitter.com/dog_rates/status/823581115...</td>\n",
       "      <td>11</td>\n",
       "      <td>10</td>\n",
       "      <td>Crawford</td>\n",
       "      <td>None</td>\n",
       "      <td>None</td>\n",
       "      <td>None</td>\n",
       "      <td>None</td>\n",
       "    </tr>\n",
       "  </tbody>\n",
       "</table>\n",
       "</div>"
      ],
      "text/plain": [
       "                tweet_id  in_reply_to_status_id  in_reply_to_user_id  \\\n",
       "1354  703631701117943808                    NaN                  NaN   \n",
       "1046  743545585370791937                    NaN                  NaN   \n",
       "408   823581115634085888                    NaN                  NaN   \n",
       "\n",
       "                      timestamp  \\\n",
       "1354  2016-02-27 17:24:05 +0000   \n",
       "1046  2016-06-16 20:47:36 +0000   \n",
       "408   2017-01-23 17:20:14 +0000   \n",
       "\n",
       "                                                 source  \\\n",
       "1354  <a href=\"http://twitter.com/download/iphone\" r...   \n",
       "1046  <a href=\"http://twitter.com/download/iphone\" r...   \n",
       "408   <a href=\"http://twitter.com/download/iphone\" r...   \n",
       "\n",
       "                                                   text  retweeted_status_id  \\\n",
       "1354  This is Bella. Based on this picture she's at ...                  NaN   \n",
       "1046  Say hello to Bentley and Millie. They do every...                  NaN   \n",
       "408   This is Crawford. He's quite h*ckin good at th...                  NaN   \n",
       "\n",
       "      retweeted_status_user_id retweeted_status_timestamp  \\\n",
       "1354                       NaN                        NaN   \n",
       "1046                       NaN                        NaN   \n",
       "408                        NaN                        NaN   \n",
       "\n",
       "                                          expanded_urls  rating_numerator  \\\n",
       "1354  https://twitter.com/dog_rates/status/703631701...                11   \n",
       "1046  https://twitter.com/dog_rates/status/743545585...                11   \n",
       "408   https://twitter.com/dog_rates/status/823581115...                11   \n",
       "\n",
       "      rating_denominator      name doggo floofer pupper puppo  \n",
       "1354                  10     Bella  None    None   None  None  \n",
       "1046                  10   Bentley  None    None   None  None  \n",
       "408                   10  Crawford  None    None   None  None  "
      ]
     },
     "execution_count": 154,
     "metadata": {},
     "output_type": "execute_result"
    }
   ],
   "source": [
    "df1.sample(3)"
   ]
  },
  {
   "cell_type": "code",
   "execution_count": 155,
   "metadata": {},
   "outputs": [
    {
     "data": {
      "text/html": [
       "<div>\n",
       "<style scoped>\n",
       "    .dataframe tbody tr th:only-of-type {\n",
       "        vertical-align: middle;\n",
       "    }\n",
       "\n",
       "    .dataframe tbody tr th {\n",
       "        vertical-align: top;\n",
       "    }\n",
       "\n",
       "    .dataframe thead th {\n",
       "        text-align: right;\n",
       "    }\n",
       "</style>\n",
       "<table border=\"1\" class=\"dataframe\">\n",
       "  <thead>\n",
       "    <tr style=\"text-align: right;\">\n",
       "      <th></th>\n",
       "      <th>tweet_id</th>\n",
       "      <th>in_reply_to_status_id</th>\n",
       "      <th>in_reply_to_user_id</th>\n",
       "      <th>retweeted_status_id</th>\n",
       "      <th>retweeted_status_user_id</th>\n",
       "      <th>rating_numerator</th>\n",
       "      <th>rating_denominator</th>\n",
       "    </tr>\n",
       "  </thead>\n",
       "  <tbody>\n",
       "    <tr>\n",
       "      <th>count</th>\n",
       "      <td>2.356000e+03</td>\n",
       "      <td>7.800000e+01</td>\n",
       "      <td>7.800000e+01</td>\n",
       "      <td>1.810000e+02</td>\n",
       "      <td>1.810000e+02</td>\n",
       "      <td>2356.000000</td>\n",
       "      <td>2356.000000</td>\n",
       "    </tr>\n",
       "    <tr>\n",
       "      <th>mean</th>\n",
       "      <td>7.427716e+17</td>\n",
       "      <td>7.455079e+17</td>\n",
       "      <td>2.014171e+16</td>\n",
       "      <td>7.720400e+17</td>\n",
       "      <td>1.241698e+16</td>\n",
       "      <td>13.126486</td>\n",
       "      <td>10.455433</td>\n",
       "    </tr>\n",
       "    <tr>\n",
       "      <th>std</th>\n",
       "      <td>6.856705e+16</td>\n",
       "      <td>7.582492e+16</td>\n",
       "      <td>1.252797e+17</td>\n",
       "      <td>6.236928e+16</td>\n",
       "      <td>9.599254e+16</td>\n",
       "      <td>45.876648</td>\n",
       "      <td>6.745237</td>\n",
       "    </tr>\n",
       "    <tr>\n",
       "      <th>min</th>\n",
       "      <td>6.660209e+17</td>\n",
       "      <td>6.658147e+17</td>\n",
       "      <td>1.185634e+07</td>\n",
       "      <td>6.661041e+17</td>\n",
       "      <td>7.832140e+05</td>\n",
       "      <td>0.000000</td>\n",
       "      <td>0.000000</td>\n",
       "    </tr>\n",
       "    <tr>\n",
       "      <th>25%</th>\n",
       "      <td>6.783989e+17</td>\n",
       "      <td>6.757419e+17</td>\n",
       "      <td>3.086374e+08</td>\n",
       "      <td>7.186315e+17</td>\n",
       "      <td>4.196984e+09</td>\n",
       "      <td>10.000000</td>\n",
       "      <td>10.000000</td>\n",
       "    </tr>\n",
       "    <tr>\n",
       "      <th>50%</th>\n",
       "      <td>7.196279e+17</td>\n",
       "      <td>7.038708e+17</td>\n",
       "      <td>4.196984e+09</td>\n",
       "      <td>7.804657e+17</td>\n",
       "      <td>4.196984e+09</td>\n",
       "      <td>11.000000</td>\n",
       "      <td>10.000000</td>\n",
       "    </tr>\n",
       "    <tr>\n",
       "      <th>75%</th>\n",
       "      <td>7.993373e+17</td>\n",
       "      <td>8.257804e+17</td>\n",
       "      <td>4.196984e+09</td>\n",
       "      <td>8.203146e+17</td>\n",
       "      <td>4.196984e+09</td>\n",
       "      <td>12.000000</td>\n",
       "      <td>10.000000</td>\n",
       "    </tr>\n",
       "    <tr>\n",
       "      <th>max</th>\n",
       "      <td>8.924206e+17</td>\n",
       "      <td>8.862664e+17</td>\n",
       "      <td>8.405479e+17</td>\n",
       "      <td>8.874740e+17</td>\n",
       "      <td>7.874618e+17</td>\n",
       "      <td>1776.000000</td>\n",
       "      <td>170.000000</td>\n",
       "    </tr>\n",
       "  </tbody>\n",
       "</table>\n",
       "</div>"
      ],
      "text/plain": [
       "           tweet_id  in_reply_to_status_id  in_reply_to_user_id  \\\n",
       "count  2.356000e+03           7.800000e+01         7.800000e+01   \n",
       "mean   7.427716e+17           7.455079e+17         2.014171e+16   \n",
       "std    6.856705e+16           7.582492e+16         1.252797e+17   \n",
       "min    6.660209e+17           6.658147e+17         1.185634e+07   \n",
       "25%    6.783989e+17           6.757419e+17         3.086374e+08   \n",
       "50%    7.196279e+17           7.038708e+17         4.196984e+09   \n",
       "75%    7.993373e+17           8.257804e+17         4.196984e+09   \n",
       "max    8.924206e+17           8.862664e+17         8.405479e+17   \n",
       "\n",
       "       retweeted_status_id  retweeted_status_user_id  rating_numerator  \\\n",
       "count         1.810000e+02              1.810000e+02       2356.000000   \n",
       "mean          7.720400e+17              1.241698e+16         13.126486   \n",
       "std           6.236928e+16              9.599254e+16         45.876648   \n",
       "min           6.661041e+17              7.832140e+05          0.000000   \n",
       "25%           7.186315e+17              4.196984e+09         10.000000   \n",
       "50%           7.804657e+17              4.196984e+09         11.000000   \n",
       "75%           8.203146e+17              4.196984e+09         12.000000   \n",
       "max           8.874740e+17              7.874618e+17       1776.000000   \n",
       "\n",
       "       rating_denominator  \n",
       "count         2356.000000  \n",
       "mean            10.455433  \n",
       "std              6.745237  \n",
       "min              0.000000  \n",
       "25%             10.000000  \n",
       "50%             10.000000  \n",
       "75%             10.000000  \n",
       "max            170.000000  "
      ]
     },
     "execution_count": 155,
     "metadata": {},
     "output_type": "execute_result"
    }
   ],
   "source": [
    "df1.describe()"
   ]
  },
  {
   "cell_type": "code",
   "execution_count": 156,
   "metadata": {},
   "outputs": [
    {
     "name": "stdout",
     "output_type": "stream",
     "text": [
      "<class 'pandas.core.frame.DataFrame'>\n",
      "RangeIndex: 2356 entries, 0 to 2355\n",
      "Data columns (total 17 columns):\n",
      "tweet_id                      2356 non-null int64\n",
      "in_reply_to_status_id         78 non-null float64\n",
      "in_reply_to_user_id           78 non-null float64\n",
      "timestamp                     2356 non-null object\n",
      "source                        2356 non-null object\n",
      "text                          2356 non-null object\n",
      "retweeted_status_id           181 non-null float64\n",
      "retweeted_status_user_id      181 non-null float64\n",
      "retweeted_status_timestamp    181 non-null object\n",
      "expanded_urls                 2297 non-null object\n",
      "rating_numerator              2356 non-null int64\n",
      "rating_denominator            2356 non-null int64\n",
      "name                          2356 non-null object\n",
      "doggo                         2356 non-null object\n",
      "floofer                       2356 non-null object\n",
      "pupper                        2356 non-null object\n",
      "puppo                         2356 non-null object\n",
      "dtypes: float64(4), int64(3), object(10)\n",
      "memory usage: 313.0+ KB\n"
     ]
    }
   ],
   "source": [
    "df1.info()"
   ]
  },
  {
   "cell_type": "code",
   "execution_count": 157,
   "metadata": {
    "scrolled": true
   },
   "outputs": [
    {
     "data": {
      "text/plain": [
       "'2015-11-15 22:32:08 +0000'"
      ]
     },
     "execution_count": 157,
     "metadata": {},
     "output_type": "execute_result"
    }
   ],
   "source": [
    "df1.timestamp.min()"
   ]
  },
  {
   "cell_type": "code",
   "execution_count": 158,
   "metadata": {},
   "outputs": [
    {
     "data": {
      "text/plain": [
       "'2017-08-01 16:23:56 +0000'"
      ]
     },
     "execution_count": 158,
     "metadata": {},
     "output_type": "execute_result"
    }
   ],
   "source": [
    "df1.timestamp.max()"
   ]
  },
  {
   "cell_type": "code",
   "execution_count": 159,
   "metadata": {
    "scrolled": false
   },
   "outputs": [
    {
     "data": {
      "text/plain": [
       "59"
      ]
     },
     "execution_count": 159,
     "metadata": {},
     "output_type": "execute_result"
    }
   ],
   "source": [
    "df1.expanded_urls.isnull().sum()"
   ]
  },
  {
   "cell_type": "code",
   "execution_count": 160,
   "metadata": {
    "scrolled": true
   },
   "outputs": [
    {
     "data": {
      "text/plain": [
       "745"
      ]
     },
     "execution_count": 160,
     "metadata": {},
     "output_type": "execute_result"
    }
   ],
   "source": [
    "len(df1.query(\"name == 'None'\"))"
   ]
  },
  {
   "cell_type": "code",
   "execution_count": 161,
   "metadata": {},
   "outputs": [
    {
     "data": {
      "text/plain": [
       "None            745\n",
       "a                55\n",
       "Charlie          12\n",
       "Cooper           11\n",
       "Lucy             11\n",
       "Oliver           11\n",
       "Tucker           10\n",
       "Lola             10\n",
       "Penny            10\n",
       "Winston           9\n",
       "Bo                9\n",
       "the               8\n",
       "Sadie             8\n",
       "Bailey            7\n",
       "Toby              7\n",
       "an                7\n",
       "Buddy             7\n",
       "Daisy             7\n",
       "Dave              6\n",
       "Stanley           6\n",
       "Jack              6\n",
       "Leo               6\n",
       "Koda              6\n",
       "Jax               6\n",
       "Scout             6\n",
       "Rusty             6\n",
       "Bella             6\n",
       "Oscar             6\n",
       "Milo              6\n",
       "Bentley           5\n",
       "               ... \n",
       "Kara              1\n",
       "Comet             1\n",
       "Tanner            1\n",
       "Arya              1\n",
       "Dante             1\n",
       "Winifred          1\n",
       "Harry             1\n",
       "Blu               1\n",
       "Kathmandu         1\n",
       "Ralph             1\n",
       "Linus             1\n",
       "Shiloh            1\n",
       "Timmy             1\n",
       "Lucky             1\n",
       "Tayzie            1\n",
       "Alexanderson      1\n",
       "Oddie             1\n",
       "Smiley            1\n",
       "Sailer            1\n",
       "Chef              1\n",
       "Callie            1\n",
       "DayZ              1\n",
       "Shawwn            1\n",
       "JD                1\n",
       "Champ             1\n",
       "Billl             1\n",
       "Wishes            1\n",
       "Sailor            1\n",
       "Chase             1\n",
       "Philippe          1\n",
       "Name: name, Length: 957, dtype: int64"
      ]
     },
     "execution_count": 161,
     "metadata": {},
     "output_type": "execute_result"
    }
   ],
   "source": [
    "df1.name.value_counts()"
   ]
  },
  {
   "cell_type": "markdown",
   "metadata": {},
   "source": [
    "#### df2 (Image predictions)"
   ]
  },
  {
   "cell_type": "code",
   "execution_count": 162,
   "metadata": {},
   "outputs": [
    {
     "data": {
      "text/html": [
       "<div>\n",
       "<style scoped>\n",
       "    .dataframe tbody tr th:only-of-type {\n",
       "        vertical-align: middle;\n",
       "    }\n",
       "\n",
       "    .dataframe tbody tr th {\n",
       "        vertical-align: top;\n",
       "    }\n",
       "\n",
       "    .dataframe thead th {\n",
       "        text-align: right;\n",
       "    }\n",
       "</style>\n",
       "<table border=\"1\" class=\"dataframe\">\n",
       "  <thead>\n",
       "    <tr style=\"text-align: right;\">\n",
       "      <th></th>\n",
       "      <th>tweet_id</th>\n",
       "      <th>jpg_url</th>\n",
       "      <th>img_num</th>\n",
       "      <th>p1</th>\n",
       "      <th>p1_conf</th>\n",
       "      <th>p1_dog</th>\n",
       "      <th>p2</th>\n",
       "      <th>p2_conf</th>\n",
       "      <th>p2_dog</th>\n",
       "      <th>p3</th>\n",
       "      <th>p3_conf</th>\n",
       "      <th>p3_dog</th>\n",
       "    </tr>\n",
       "  </thead>\n",
       "  <tbody>\n",
       "    <tr>\n",
       "      <th>1917</th>\n",
       "      <td>854732716440526848</td>\n",
       "      <td>https://pbs.twimg.com/media/C9ye3b3WAAAlTo0.jpg</td>\n",
       "      <td>1</td>\n",
       "      <td>Pembroke</td>\n",
       "      <td>0.695548</td>\n",
       "      <td>True</td>\n",
       "      <td>Cardigan</td>\n",
       "      <td>0.058902</td>\n",
       "      <td>True</td>\n",
       "      <td>chow</td>\n",
       "      <td>0.028411</td>\n",
       "      <td>True</td>\n",
       "    </tr>\n",
       "    <tr>\n",
       "      <th>1863</th>\n",
       "      <td>842846295480000512</td>\n",
       "      <td>https://pbs.twimg.com/media/C7JkO0rX0AErh7X.jpg</td>\n",
       "      <td>1</td>\n",
       "      <td>Labrador_retriever</td>\n",
       "      <td>0.461076</td>\n",
       "      <td>True</td>\n",
       "      <td>golden_retriever</td>\n",
       "      <td>0.154946</td>\n",
       "      <td>True</td>\n",
       "      <td>Chihuahua</td>\n",
       "      <td>0.110249</td>\n",
       "      <td>True</td>\n",
       "    </tr>\n",
       "    <tr>\n",
       "      <th>1563</th>\n",
       "      <td>793601777308463104</td>\n",
       "      <td>https://pbs.twimg.com/media/CwNwmxvXEAEJ54Z.jpg</td>\n",
       "      <td>1</td>\n",
       "      <td>miniature_pinscher</td>\n",
       "      <td>0.538981</td>\n",
       "      <td>True</td>\n",
       "      <td>Chihuahua</td>\n",
       "      <td>0.217830</td>\n",
       "      <td>True</td>\n",
       "      <td>toy_terrier</td>\n",
       "      <td>0.089149</td>\n",
       "      <td>True</td>\n",
       "    </tr>\n",
       "  </tbody>\n",
       "</table>\n",
       "</div>"
      ],
      "text/plain": [
       "                tweet_id                                          jpg_url  \\\n",
       "1917  854732716440526848  https://pbs.twimg.com/media/C9ye3b3WAAAlTo0.jpg   \n",
       "1863  842846295480000512  https://pbs.twimg.com/media/C7JkO0rX0AErh7X.jpg   \n",
       "1563  793601777308463104  https://pbs.twimg.com/media/CwNwmxvXEAEJ54Z.jpg   \n",
       "\n",
       "      img_num                  p1   p1_conf  p1_dog                p2  \\\n",
       "1917        1            Pembroke  0.695548    True          Cardigan   \n",
       "1863        1  Labrador_retriever  0.461076    True  golden_retriever   \n",
       "1563        1  miniature_pinscher  0.538981    True         Chihuahua   \n",
       "\n",
       "       p2_conf  p2_dog           p3   p3_conf  p3_dog  \n",
       "1917  0.058902    True         chow  0.028411    True  \n",
       "1863  0.154946    True    Chihuahua  0.110249    True  \n",
       "1563  0.217830    True  toy_terrier  0.089149    True  "
      ]
     },
     "execution_count": 162,
     "metadata": {},
     "output_type": "execute_result"
    }
   ],
   "source": [
    "df2.sample(3)"
   ]
  },
  {
   "cell_type": "code",
   "execution_count": 163,
   "metadata": {
    "scrolled": true
   },
   "outputs": [
    {
     "name": "stdout",
     "output_type": "stream",
     "text": [
      "<class 'pandas.core.frame.DataFrame'>\n",
      "RangeIndex: 2075 entries, 0 to 2074\n",
      "Data columns (total 12 columns):\n",
      "tweet_id    2075 non-null int64\n",
      "jpg_url     2075 non-null object\n",
      "img_num     2075 non-null int64\n",
      "p1          2075 non-null object\n",
      "p1_conf     2075 non-null float64\n",
      "p1_dog      2075 non-null bool\n",
      "p2          2075 non-null object\n",
      "p2_conf     2075 non-null float64\n",
      "p2_dog      2075 non-null bool\n",
      "p3          2075 non-null object\n",
      "p3_conf     2075 non-null float64\n",
      "p3_dog      2075 non-null bool\n",
      "dtypes: bool(3), float64(3), int64(2), object(4)\n",
      "memory usage: 152.1+ KB\n"
     ]
    }
   ],
   "source": [
    "df2.info()"
   ]
  },
  {
   "cell_type": "code",
   "execution_count": 164,
   "metadata": {},
   "outputs": [
    {
     "data": {
      "text/plain": [
       "2075"
      ]
     },
     "execution_count": 164,
     "metadata": {},
     "output_type": "execute_result"
    }
   ],
   "source": [
    "df2.tweet_id.nunique()"
   ]
  },
  {
   "cell_type": "code",
   "execution_count": 165,
   "metadata": {},
   "outputs": [
    {
     "data": {
      "text/plain": [
       "1    1780\n",
       "2     198\n",
       "3      66\n",
       "4      31\n",
       "Name: img_num, dtype: int64"
      ]
     },
     "execution_count": 165,
     "metadata": {},
     "output_type": "execute_result"
    }
   ],
   "source": [
    "df2.img_num.value_counts()"
   ]
  },
  {
   "cell_type": "markdown",
   "metadata": {},
   "source": [
    "#### df3 (Twitter API)"
   ]
  },
  {
   "cell_type": "code",
   "execution_count": 166,
   "metadata": {
    "scrolled": true
   },
   "outputs": [
    {
     "data": {
      "text/html": [
       "<div>\n",
       "<style scoped>\n",
       "    .dataframe tbody tr th:only-of-type {\n",
       "        vertical-align: middle;\n",
       "    }\n",
       "\n",
       "    .dataframe tbody tr th {\n",
       "        vertical-align: top;\n",
       "    }\n",
       "\n",
       "    .dataframe thead th {\n",
       "        text-align: right;\n",
       "    }\n",
       "</style>\n",
       "<table border=\"1\" class=\"dataframe\">\n",
       "  <thead>\n",
       "    <tr style=\"text-align: right;\">\n",
       "      <th></th>\n",
       "      <th>tweet_id</th>\n",
       "      <th>retweet_count</th>\n",
       "      <th>favorite_count</th>\n",
       "    </tr>\n",
       "  </thead>\n",
       "  <tbody>\n",
       "    <tr>\n",
       "      <th>640</th>\n",
       "      <td>791784077045166082</td>\n",
       "      <td>10403</td>\n",
       "      <td>0</td>\n",
       "    </tr>\n",
       "    <tr>\n",
       "      <th>2209</th>\n",
       "      <td>668256321989451776</td>\n",
       "      <td>621</td>\n",
       "      <td>1307</td>\n",
       "    </tr>\n",
       "    <tr>\n",
       "      <th>1297</th>\n",
       "      <td>706681918348251136</td>\n",
       "      <td>1018</td>\n",
       "      <td>3438</td>\n",
       "    </tr>\n",
       "  </tbody>\n",
       "</table>\n",
       "</div>"
      ],
      "text/plain": [
       "                tweet_id retweet_count favorite_count\n",
       "640   791784077045166082         10403              0\n",
       "2209  668256321989451776           621           1307\n",
       "1297  706681918348251136          1018           3438"
      ]
     },
     "execution_count": 166,
     "metadata": {},
     "output_type": "execute_result"
    }
   ],
   "source": [
    "df3.sample(3)"
   ]
  },
  {
   "cell_type": "code",
   "execution_count": 167,
   "metadata": {},
   "outputs": [
    {
     "name": "stdout",
     "output_type": "stream",
     "text": [
      "<class 'pandas.core.frame.DataFrame'>\n",
      "RangeIndex: 2337 entries, 0 to 2336\n",
      "Data columns (total 3 columns):\n",
      "tweet_id          2337 non-null object\n",
      "retweet_count     2337 non-null object\n",
      "favorite_count    2337 non-null object\n",
      "dtypes: object(3)\n",
      "memory usage: 54.9+ KB\n"
     ]
    }
   ],
   "source": [
    "df3.info()"
   ]
  },
  {
   "cell_type": "markdown",
   "metadata": {},
   "source": [
    "### Quality\n",
    "df1 (Archive):\n",
    "1. We want only the original tweets and no retweets. The columns 'retweeted_status_id', 'retweeted_status_user_id', 'retweeted_status_timestamp', 'in_reply_to_user_id'and 'in_reply_to_status_id' are not useful after we get rid of retweets.\n",
    "2. Some expanded_urls are missing.\n",
    "3. 'twitter_id' is wrong datatype. \n",
    "4. 'Timestamp' is the wrong datatype.\n",
    "\n",
    "df2 (Image Predictions):\n",
    "1. 'twitter_id' is wrong datatype. \n",
    "2. 'p1', 'p2' and 'p3' are not consistently capitalized.\n",
    "3. 'p1', 'p2', and 'p3' have some predictions that are not dogs. p1, p1_dog, p2, p2_dog, p3, p3_dog column headers are confusing.\n",
    "4. The column 'img_num' is not useful.\n",
    "\n",
    "df3 (Twitter API)\n",
    "1. 'retweet_count', and 'favorite_count' are wrong datatypes.\n",
    "\n",
    "### Tidiness\n",
    "df1 (Archive):\n",
    "1. The columns 'doggo', 'floofer', 'pupper','puppo' are in 4 different columns when they describe one variable- the various stages of dog. \n",
    "\n",
    "All three files can be merged into one since they are the same observational unit.\n",
    " "
   ]
  },
  {
   "cell_type": "markdown",
   "metadata": {},
   "source": [
    "### Quality\n",
    "\n",
    "### df1 (Archived)"
   ]
  },
  {
   "cell_type": "markdown",
   "metadata": {},
   "source": [
    "#### Define:\n",
    "\n",
    "We want only the original tweets and no retweets. If 'retweeted_status_user_id' and/or 'in_reply_to_user_id' isnull that means the tweet was not used as a retweet. Identify the tweets that are null using isnull function and save them in a new version of df1.\n",
    "\n",
    "#### Code:"
   ]
  },
  {
   "cell_type": "code",
   "execution_count": 168,
   "metadata": {},
   "outputs": [],
   "source": [
    "df1 = df1[df1.retweeted_status_user_id.isnull()]\n",
    "df1 = df1[df1.in_reply_to_user_id.isnull()]"
   ]
  },
  {
   "cell_type": "markdown",
   "metadata": {},
   "source": [
    "#### Test:"
   ]
  },
  {
   "cell_type": "code",
   "execution_count": 169,
   "metadata": {},
   "outputs": [
    {
     "data": {
      "text/plain": [
       "0"
      ]
     },
     "execution_count": 169,
     "metadata": {},
     "output_type": "execute_result"
    }
   ],
   "source": [
    "sum(df1.in_reply_to_user_id.notnull())"
   ]
  },
  {
   "cell_type": "code",
   "execution_count": 170,
   "metadata": {
    "scrolled": true
   },
   "outputs": [
    {
     "data": {
      "text/plain": [
       "0"
      ]
     },
     "execution_count": 170,
     "metadata": {},
     "output_type": "execute_result"
    }
   ],
   "source": [
    "sum(df1.retweeted_status_user_id.notnull())"
   ]
  },
  {
   "cell_type": "markdown",
   "metadata": {},
   "source": [
    "#### Define: \n",
    "\n",
    "The columns 'retweeted_status_id', 'retweeted_status_user_id', 'retweeted_status_timestamp', 'in_reply_to_user_id'and 'in_reply_to_status_id' are not useful after retweets were deleted. Use drop function to delete.\n",
    "\n",
    "#### Code:"
   ]
  },
  {
   "cell_type": "code",
   "execution_count": 171,
   "metadata": {},
   "outputs": [],
   "source": [
    "df1=df1.drop(['retweeted_status_id','retweeted_status_user_id','retweeted_status_timestamp','in_reply_to_user_id','in_reply_to_status_id'],axis=1)"
   ]
  },
  {
   "cell_type": "markdown",
   "metadata": {},
   "source": [
    "#### Test:"
   ]
  },
  {
   "cell_type": "code",
   "execution_count": 172,
   "metadata": {},
   "outputs": [
    {
     "data": {
      "text/plain": [
       "['tweet_id',\n",
       " 'timestamp',\n",
       " 'source',\n",
       " 'text',\n",
       " 'expanded_urls',\n",
       " 'rating_numerator',\n",
       " 'rating_denominator',\n",
       " 'name',\n",
       " 'doggo',\n",
       " 'floofer',\n",
       " 'pupper',\n",
       " 'puppo']"
      ]
     },
     "execution_count": 172,
     "metadata": {},
     "output_type": "execute_result"
    }
   ],
   "source": [
    "list(df1)"
   ]
  },
  {
   "cell_type": "markdown",
   "metadata": {},
   "source": [
    "#### Define:\n",
    "\n",
    "Expanded_urls has 3 null values. Delete them using notnull function.\n",
    "\n",
    "#### Code:"
   ]
  },
  {
   "cell_type": "code",
   "execution_count": 173,
   "metadata": {},
   "outputs": [],
   "source": [
    "df1 = df1[df1.expanded_urls.notnull()]"
   ]
  },
  {
   "cell_type": "markdown",
   "metadata": {},
   "source": [
    "#### Test:"
   ]
  },
  {
   "cell_type": "code",
   "execution_count": 174,
   "metadata": {
    "scrolled": true
   },
   "outputs": [
    {
     "data": {
      "text/plain": [
       "0"
      ]
     },
     "execution_count": 174,
     "metadata": {},
     "output_type": "execute_result"
    }
   ],
   "source": [
    "sum(df1.expanded_urls.isnull())"
   ]
  },
  {
   "cell_type": "markdown",
   "metadata": {},
   "source": [
    "#### Define:\n",
    "\n",
    "'twitter_id' is wrong datatype. It's int64 and should be a string. Use astype to convert.\n",
    "\n",
    "#### Code:"
   ]
  },
  {
   "cell_type": "code",
   "execution_count": 175,
   "metadata": {},
   "outputs": [],
   "source": [
    "df1.tweet_id = df1.tweet_id.astype(str)"
   ]
  },
  {
   "cell_type": "markdown",
   "metadata": {},
   "source": [
    "#### Test:"
   ]
  },
  {
   "cell_type": "code",
   "execution_count": 176,
   "metadata": {},
   "outputs": [
    {
     "data": {
      "text/plain": [
       "dtype('O')"
      ]
     },
     "execution_count": 176,
     "metadata": {},
     "output_type": "execute_result"
    }
   ],
   "source": [
    "df1.tweet_id.dtypes"
   ]
  },
  {
   "cell_type": "markdown",
   "metadata": {},
   "source": [
    "#### Define:\n",
    "\n",
    "'Timestamp' is type object and should be type Timestamp\n",
    "\n",
    "#### Code:"
   ]
  },
  {
   "cell_type": "code",
   "execution_count": 177,
   "metadata": {},
   "outputs": [],
   "source": [
    "df1.timestamp=pd.to_datetime(df1.timestamp)"
   ]
  },
  {
   "cell_type": "markdown",
   "metadata": {},
   "source": [
    "#### Test:"
   ]
  },
  {
   "cell_type": "code",
   "execution_count": 178,
   "metadata": {},
   "outputs": [
    {
     "name": "stdout",
     "output_type": "stream",
     "text": [
      "<class 'pandas.core.frame.DataFrame'>\n",
      "Int64Index: 2094 entries, 0 to 2355\n",
      "Data columns (total 12 columns):\n",
      "tweet_id              2094 non-null object\n",
      "timestamp             2094 non-null datetime64[ns]\n",
      "source                2094 non-null object\n",
      "text                  2094 non-null object\n",
      "expanded_urls         2094 non-null object\n",
      "rating_numerator      2094 non-null int64\n",
      "rating_denominator    2094 non-null int64\n",
      "name                  2094 non-null object\n",
      "doggo                 2094 non-null object\n",
      "floofer               2094 non-null object\n",
      "pupper                2094 non-null object\n",
      "puppo                 2094 non-null object\n",
      "dtypes: datetime64[ns](1), int64(2), object(9)\n",
      "memory usage: 212.7+ KB\n"
     ]
    }
   ],
   "source": [
    "df1.info()"
   ]
  },
  {
   "cell_type": "markdown",
   "metadata": {},
   "source": [
    "### df2 (Image Predictions):\n",
    "\n",
    "#### Define:\n",
    "'twitter_id' is wrong datatype. It's int64 and should be a string. Use astype to convert.\n",
    "\n",
    "#### Code:"
   ]
  },
  {
   "cell_type": "code",
   "execution_count": 179,
   "metadata": {},
   "outputs": [],
   "source": [
    "df2.tweet_id = df2.tweet_id.astype(str)"
   ]
  },
  {
   "cell_type": "markdown",
   "metadata": {},
   "source": [
    "#### Test:"
   ]
  },
  {
   "cell_type": "code",
   "execution_count": 180,
   "metadata": {},
   "outputs": [
    {
     "data": {
      "text/plain": [
       "dtype('O')"
      ]
     },
     "execution_count": 180,
     "metadata": {},
     "output_type": "execute_result"
    }
   ],
   "source": [
    "df2.tweet_id.dtypes"
   ]
  },
  {
   "cell_type": "markdown",
   "metadata": {},
   "source": [
    "#### Define:\n",
    "p1, p2 and p3 predictions for the type of dog are not all capitalized. Utilize the str and capitalize function to capitalize the first letter.\n",
    "\n",
    "#### Code:"
   ]
  },
  {
   "cell_type": "code",
   "execution_count": 181,
   "metadata": {},
   "outputs": [],
   "source": [
    "df2.p1 = df2.p1.str.capitalize()"
   ]
  },
  {
   "cell_type": "code",
   "execution_count": 182,
   "metadata": {},
   "outputs": [],
   "source": [
    "df2.p2 = df2.p2.str.capitalize()"
   ]
  },
  {
   "cell_type": "code",
   "execution_count": 183,
   "metadata": {},
   "outputs": [],
   "source": [
    "df2.p3 = df2.p3.str.capitalize()"
   ]
  },
  {
   "cell_type": "markdown",
   "metadata": {},
   "source": [
    "#### Test:"
   ]
  },
  {
   "cell_type": "code",
   "execution_count": 184,
   "metadata": {},
   "outputs": [
    {
     "data": {
      "text/html": [
       "<div>\n",
       "<style scoped>\n",
       "    .dataframe tbody tr th:only-of-type {\n",
       "        vertical-align: middle;\n",
       "    }\n",
       "\n",
       "    .dataframe tbody tr th {\n",
       "        vertical-align: top;\n",
       "    }\n",
       "\n",
       "    .dataframe thead th {\n",
       "        text-align: right;\n",
       "    }\n",
       "</style>\n",
       "<table border=\"1\" class=\"dataframe\">\n",
       "  <thead>\n",
       "    <tr style=\"text-align: right;\">\n",
       "      <th></th>\n",
       "      <th>tweet_id</th>\n",
       "      <th>jpg_url</th>\n",
       "      <th>img_num</th>\n",
       "      <th>p1</th>\n",
       "      <th>p1_conf</th>\n",
       "      <th>p1_dog</th>\n",
       "      <th>p2</th>\n",
       "      <th>p2_conf</th>\n",
       "      <th>p2_dog</th>\n",
       "      <th>p3</th>\n",
       "      <th>p3_conf</th>\n",
       "      <th>p3_dog</th>\n",
       "    </tr>\n",
       "  </thead>\n",
       "  <tbody>\n",
       "    <tr>\n",
       "      <th>1314</th>\n",
       "      <td>754856583969079297</td>\n",
       "      <td>https://pbs.twimg.com/media/CnnKCKNWgAAcOB8.jpg</td>\n",
       "      <td>2</td>\n",
       "      <td>Golden_retriever</td>\n",
       "      <td>0.872385</td>\n",
       "      <td>True</td>\n",
       "      <td>Labrador_retriever</td>\n",
       "      <td>0.099963</td>\n",
       "      <td>True</td>\n",
       "      <td>Cocker_spaniel</td>\n",
       "      <td>0.006051</td>\n",
       "      <td>True</td>\n",
       "    </tr>\n",
       "    <tr>\n",
       "      <th>926</th>\n",
       "      <td>702598099714314240</td>\n",
       "      <td>https://pbs.twimg.com/media/CcAhPevW8AAoknv.jpg</td>\n",
       "      <td>1</td>\n",
       "      <td>Kelpie</td>\n",
       "      <td>0.219179</td>\n",
       "      <td>True</td>\n",
       "      <td>Badger</td>\n",
       "      <td>0.133584</td>\n",
       "      <td>False</td>\n",
       "      <td>Siamese_cat</td>\n",
       "      <td>0.074440</td>\n",
       "      <td>False</td>\n",
       "    </tr>\n",
       "    <tr>\n",
       "      <th>1048</th>\n",
       "      <td>713411074226274305</td>\n",
       "      <td>https://pbs.twimg.com/media/CeaLlAPUMAIcC7U.jpg</td>\n",
       "      <td>1</td>\n",
       "      <td>Great_pyrenees</td>\n",
       "      <td>0.720337</td>\n",
       "      <td>True</td>\n",
       "      <td>Samoyed</td>\n",
       "      <td>0.129542</td>\n",
       "      <td>True</td>\n",
       "      <td>Kuvasz</td>\n",
       "      <td>0.122451</td>\n",
       "      <td>True</td>\n",
       "    </tr>\n",
       "    <tr>\n",
       "      <th>1955</th>\n",
       "      <td>864279568663928832</td>\n",
       "      <td>https://pbs.twimg.com/media/C_6JrWZVwAAHhCD.jpg</td>\n",
       "      <td>1</td>\n",
       "      <td>Bull_mastiff</td>\n",
       "      <td>0.668613</td>\n",
       "      <td>True</td>\n",
       "      <td>French_bulldog</td>\n",
       "      <td>0.180562</td>\n",
       "      <td>True</td>\n",
       "      <td>Staffordshire_bullterrier</td>\n",
       "      <td>0.052237</td>\n",
       "      <td>True</td>\n",
       "    </tr>\n",
       "    <tr>\n",
       "      <th>484</th>\n",
       "      <td>675483430902214656</td>\n",
       "      <td>https://pbs.twimg.com/media/CV_MmGZU8AAggM6.jpg</td>\n",
       "      <td>1</td>\n",
       "      <td>Box_turtle</td>\n",
       "      <td>0.543706</td>\n",
       "      <td>False</td>\n",
       "      <td>Terrapin</td>\n",
       "      <td>0.202600</td>\n",
       "      <td>False</td>\n",
       "      <td>Loggerhead</td>\n",
       "      <td>0.071122</td>\n",
       "      <td>False</td>\n",
       "    </tr>\n",
       "  </tbody>\n",
       "</table>\n",
       "</div>"
      ],
      "text/plain": [
       "                tweet_id                                          jpg_url  \\\n",
       "1314  754856583969079297  https://pbs.twimg.com/media/CnnKCKNWgAAcOB8.jpg   \n",
       "926   702598099714314240  https://pbs.twimg.com/media/CcAhPevW8AAoknv.jpg   \n",
       "1048  713411074226274305  https://pbs.twimg.com/media/CeaLlAPUMAIcC7U.jpg   \n",
       "1955  864279568663928832  https://pbs.twimg.com/media/C_6JrWZVwAAHhCD.jpg   \n",
       "484   675483430902214656  https://pbs.twimg.com/media/CV_MmGZU8AAggM6.jpg   \n",
       "\n",
       "      img_num                p1   p1_conf  p1_dog                  p2  \\\n",
       "1314        2  Golden_retriever  0.872385    True  Labrador_retriever   \n",
       "926         1            Kelpie  0.219179    True              Badger   \n",
       "1048        1    Great_pyrenees  0.720337    True             Samoyed   \n",
       "1955        1      Bull_mastiff  0.668613    True      French_bulldog   \n",
       "484         1        Box_turtle  0.543706   False            Terrapin   \n",
       "\n",
       "       p2_conf  p2_dog                         p3   p3_conf  p3_dog  \n",
       "1314  0.099963    True             Cocker_spaniel  0.006051    True  \n",
       "926   0.133584   False                Siamese_cat  0.074440   False  \n",
       "1048  0.129542    True                     Kuvasz  0.122451    True  \n",
       "1955  0.180562    True  Staffordshire_bullterrier  0.052237    True  \n",
       "484   0.202600   False                 Loggerhead  0.071122   False  "
      ]
     },
     "execution_count": 184,
     "metadata": {},
     "output_type": "execute_result"
    }
   ],
   "source": [
    "df2.sample(5)"
   ]
  },
  {
   "cell_type": "markdown",
   "metadata": {},
   "source": [
    "#### Define:\n",
    "\n",
    "p1, p2 and p3 are not all dog breeds per p1_dog, p2_dog, p3_dog. If p1_dog is False, replace p1 with Breed_not_identified.\n",
    "\n",
    "#### Code:"
   ]
  },
  {
   "cell_type": "code",
   "execution_count": 185,
   "metadata": {
    "scrolled": true
   },
   "outputs": [],
   "source": [
    "df2.p1[df2.p1_dog==False]='Breed_not_identified'"
   ]
  },
  {
   "cell_type": "code",
   "execution_count": 186,
   "metadata": {},
   "outputs": [],
   "source": [
    "df2.p2[df2.p2_dog==False]='Breed_not_identified'"
   ]
  },
  {
   "cell_type": "code",
   "execution_count": 187,
   "metadata": {},
   "outputs": [],
   "source": [
    "df2.p3[df2.p3_dog==False]='Breed_not_identified'"
   ]
  },
  {
   "cell_type": "markdown",
   "metadata": {},
   "source": [
    "#### Test:"
   ]
  },
  {
   "cell_type": "code",
   "execution_count": 188,
   "metadata": {
    "scrolled": true
   },
   "outputs": [
    {
     "data": {
      "text/plain": [
       "Breed_not_identified           543\n",
       "Golden_retriever               150\n",
       "Labrador_retriever             100\n",
       "Pembroke                        89\n",
       "Chihuahua                       83\n",
       "Pug                             57\n",
       "Chow                            44\n",
       "Samoyed                         43\n",
       "Toy_poodle                      39\n",
       "Pomeranian                      38\n",
       "Malamute                        30\n",
       "Cocker_spaniel                  30\n",
       "French_bulldog                  26\n",
       "Chesapeake_bay_retriever        23\n",
       "Miniature_pinscher              23\n",
       "German_shepherd                 20\n",
       "Staffordshire_bullterrier       20\n",
       "Siberian_husky                  20\n",
       "Cardigan                        19\n",
       "Maltese_dog                     18\n",
       "Eskimo_dog                      18\n",
       "Beagle                          18\n",
       "Shetland_sheepdog               18\n",
       "Lakeland_terrier                17\n",
       "Rottweiler                      17\n",
       "Shih-tzu                        17\n",
       "Italian_greyhound               16\n",
       "Kuvasz                          16\n",
       "West_highland_white_terrier     14\n",
       "Great_pyrenees                  14\n",
       "                              ... \n",
       "Saluki                           4\n",
       "Afghan_hound                     4\n",
       "Rhodesian_ridgeback              4\n",
       "Weimaraner                       4\n",
       "Norwich_terrier                  4\n",
       "Ibizan_hound                     3\n",
       "Brabancon_griffon                3\n",
       "Curly-coated_retriever           3\n",
       "Welsh_springer_spaniel           3\n",
       "Komondor                         3\n",
       "Leonberg                         3\n",
       "Greater_swiss_mountain_dog       3\n",
       "Cairn                            3\n",
       "Scottish_deerhound               3\n",
       "Irish_water_spaniel              3\n",
       "Briard                           3\n",
       "Giant_schnauzer                  3\n",
       "Black-and-tan_coonhound          2\n",
       "Wire-haired_fox_terrier          2\n",
       "Australian_terrier               2\n",
       "Sussex_spaniel                   2\n",
       "Toy_terrier                      2\n",
       "Appenzeller                      2\n",
       "Clumber                          1\n",
       "Entlebucher                      1\n",
       "Groenendael                      1\n",
       "Standard_schnauzer               1\n",
       "Silky_terrier                    1\n",
       "Scotch_terrier                   1\n",
       "Japanese_spaniel                 1\n",
       "Name: p1, Length: 112, dtype: int64"
      ]
     },
     "execution_count": 188,
     "metadata": {},
     "output_type": "execute_result"
    }
   ],
   "source": [
    "df2.p1.value_counts()"
   ]
  },
  {
   "cell_type": "code",
   "execution_count": 189,
   "metadata": {
    "scrolled": true
   },
   "outputs": [
    {
     "data": {
      "text/plain": [
       "Breed_not_identified              522\n",
       "Labrador_retriever                104\n",
       "Golden_retriever                   92\n",
       "Cardigan                           73\n",
       "Chihuahua                          44\n",
       "Pomeranian                         42\n",
       "Chesapeake_bay_retriever           41\n",
       "French_bulldog                     41\n",
       "Toy_poodle                         37\n",
       "Cocker_spaniel                     34\n",
       "Miniature_poodle                   33\n",
       "Siberian_husky                     33\n",
       "Beagle                             28\n",
       "Collie                             27\n",
       "Pembroke                           27\n",
       "Eskimo_dog                         27\n",
       "Kuvasz                             26\n",
       "Italian_greyhound                  22\n",
       "Pekinese                           21\n",
       "American_staffordshire_terrier     21\n",
       "Samoyed                            20\n",
       "Miniature_pinscher                 20\n",
       "Chow                               20\n",
       "Malinois                           20\n",
       "Toy_terrier                        20\n",
       "Norwegian_elkhound                 19\n",
       "Boston_bull                        19\n",
       "Staffordshire_bullterrier          18\n",
       "Irish_terrier                      17\n",
       "Pug                                17\n",
       "                                 ... \n",
       "Afghan_hound                        5\n",
       "Bedlington_terrier                  5\n",
       "Yorkshire_terrier                   5\n",
       "Cairn                               4\n",
       "Dandie_dinmont                      4\n",
       "Wire-haired_fox_terrier             4\n",
       "Briard                              4\n",
       "Dalmatian                           4\n",
       "Mexican_hairless                    4\n",
       "Saluki                              4\n",
       "Border_terrier                      4\n",
       "Otterhound                          4\n",
       "Blenheim_spaniel                    4\n",
       "Weimaraner                          3\n",
       "Irish_wolfhound                     3\n",
       "Appenzeller                         3\n",
       "Miniature_schnauzer                 3\n",
       "Australian_terrier                  2\n",
       "Giant_schnauzer                     2\n",
       "Curly-coated_retriever              2\n",
       "Scotch_terrier                      2\n",
       "English_foxhound                    2\n",
       "Sealyham_terrier                    2\n",
       "Kerry_blue_terrier                  1\n",
       "Entlebucher                         1\n",
       "Standard_schnauzer                  1\n",
       "Komondor                            1\n",
       "Bernese_mountain_dog                1\n",
       "Japanese_spaniel                    1\n",
       "Affenpinscher                       1\n",
       "Name: p2, Length: 114, dtype: int64"
      ]
     },
     "execution_count": 189,
     "metadata": {},
     "output_type": "execute_result"
    }
   ],
   "source": [
    "df2.p2.value_counts()"
   ]
  },
  {
   "cell_type": "code",
   "execution_count": 190,
   "metadata": {
    "scrolled": true
   },
   "outputs": [
    {
     "data": {
      "text/plain": [
       "Breed_not_identified              576\n",
       "Labrador_retriever                 79\n",
       "Chihuahua                          58\n",
       "Golden_retriever                   48\n",
       "Eskimo_dog                         38\n",
       "Kelpie                             35\n",
       "Kuvasz                             34\n",
       "Staffordshire_bullterrier          32\n",
       "Chow                               32\n",
       "Cocker_spaniel                     31\n",
       "Beagle                             31\n",
       "Pomeranian                         29\n",
       "Toy_poodle                         29\n",
       "Pekinese                           29\n",
       "Pembroke                           27\n",
       "Chesapeake_bay_retriever           27\n",
       "Great_pyrenees                     27\n",
       "Malamute                           26\n",
       "French_bulldog                     26\n",
       "American_staffordshire_terrier     24\n",
       "Pug                                23\n",
       "Cardigan                           23\n",
       "Basenji                            21\n",
       "Bull_mastiff                       20\n",
       "Toy_terrier                        20\n",
       "Siberian_husky                     19\n",
       "Boston_bull                        17\n",
       "Shetland_sheepdog                  17\n",
       "Boxer                              16\n",
       "Lakeland_terrier                   16\n",
       "                                 ... \n",
       "Giant_schnauzer                     5\n",
       "Groenendael                         5\n",
       "Greater_swiss_mountain_dog          5\n",
       "Leonberg                            5\n",
       "Flat-coated_retriever               5\n",
       "Dalmatian                           5\n",
       "Silky_terrier                       4\n",
       "Japanese_spaniel                    4\n",
       "Irish_water_spaniel                 4\n",
       "Malinois                            4\n",
       "Mexican_hairless                    4\n",
       "Miniature_schnauzer                 4\n",
       "Gordon_setter                       4\n",
       "Dandie_dinmont                      4\n",
       "Black-and-tan_coonhound             4\n",
       "Afghan_hound                        4\n",
       "Wire-haired_fox_terrier             3\n",
       "Scottish_deerhound                  3\n",
       "Irish_wolfhound                     2\n",
       "Briard                              2\n",
       "Komondor                            2\n",
       "Bernese_mountain_dog                2\n",
       "Bouvier_des_flandres                2\n",
       "Sealyham_terrier                    2\n",
       "Blenheim_spaniel                    2\n",
       "Walker_hound                        2\n",
       "Kerry_blue_terrier                  1\n",
       "Affenpinscher                       1\n",
       "Standard_schnauzer                  1\n",
       "Sussex_spaniel                      1\n",
       "Name: p3, Length: 117, dtype: int64"
      ]
     },
     "execution_count": 190,
     "metadata": {},
     "output_type": "execute_result"
    }
   ],
   "source": [
    "df2.p3.value_counts()"
   ]
  },
  {
   "cell_type": "markdown",
   "metadata": {},
   "source": [
    "#### Test:"
   ]
  },
  {
   "cell_type": "code",
   "execution_count": 191,
   "metadata": {
    "scrolled": false
   },
   "outputs": [
    {
     "data": {
      "text/html": [
       "<div>\n",
       "<style scoped>\n",
       "    .dataframe tbody tr th:only-of-type {\n",
       "        vertical-align: middle;\n",
       "    }\n",
       "\n",
       "    .dataframe tbody tr th {\n",
       "        vertical-align: top;\n",
       "    }\n",
       "\n",
       "    .dataframe thead th {\n",
       "        text-align: right;\n",
       "    }\n",
       "</style>\n",
       "<table border=\"1\" class=\"dataframe\">\n",
       "  <thead>\n",
       "    <tr style=\"text-align: right;\">\n",
       "      <th></th>\n",
       "      <th>tweet_id</th>\n",
       "      <th>jpg_url</th>\n",
       "      <th>img_num</th>\n",
       "      <th>p1</th>\n",
       "      <th>p1_conf</th>\n",
       "      <th>p1_dog</th>\n",
       "      <th>p2</th>\n",
       "      <th>p2_conf</th>\n",
       "      <th>p2_dog</th>\n",
       "      <th>p3</th>\n",
       "      <th>p3_conf</th>\n",
       "      <th>p3_dog</th>\n",
       "    </tr>\n",
       "  </thead>\n",
       "  <tbody>\n",
       "    <tr>\n",
       "      <th>1423</th>\n",
       "      <td>772117678702071809</td>\n",
       "      <td>https://pbs.twimg.com/media/Crcc7pqXEAAM5O2.jpg</td>\n",
       "      <td>1</td>\n",
       "      <td>Labrador_retriever</td>\n",
       "      <td>0.217821</td>\n",
       "      <td>True</td>\n",
       "      <td>Beagle</td>\n",
       "      <td>0.157677</td>\n",
       "      <td>True</td>\n",
       "      <td>Golden_retriever</td>\n",
       "      <td>0.127726</td>\n",
       "      <td>True</td>\n",
       "    </tr>\n",
       "    <tr>\n",
       "      <th>146</th>\n",
       "      <td>668627278264475648</td>\n",
       "      <td>https://pbs.twimg.com/media/CUdw9thWsAA4mB9.jpg</td>\n",
       "      <td>1</td>\n",
       "      <td>French_bulldog</td>\n",
       "      <td>0.965403</td>\n",
       "      <td>True</td>\n",
       "      <td>Pug</td>\n",
       "      <td>0.008604</td>\n",
       "      <td>True</td>\n",
       "      <td>Boston_bull</td>\n",
       "      <td>0.008004</td>\n",
       "      <td>True</td>\n",
       "    </tr>\n",
       "    <tr>\n",
       "      <th>1490</th>\n",
       "      <td>782722598790725632</td>\n",
       "      <td>https://pbs.twimg.com/media/CtzKC7zXEAALfSo.jpg</td>\n",
       "      <td>1</td>\n",
       "      <td>Irish_setter</td>\n",
       "      <td>0.574557</td>\n",
       "      <td>True</td>\n",
       "      <td>Golden_retriever</td>\n",
       "      <td>0.339251</td>\n",
       "      <td>True</td>\n",
       "      <td>Breed_not_identified</td>\n",
       "      <td>0.046108</td>\n",
       "      <td>False</td>\n",
       "    </tr>\n",
       "    <tr>\n",
       "      <th>1886</th>\n",
       "      <td>847962785489326080</td>\n",
       "      <td>https://pbs.twimg.com/media/C8SRpHNUIAARB3j.jpg</td>\n",
       "      <td>1</td>\n",
       "      <td>Breed_not_identified</td>\n",
       "      <td>0.882654</td>\n",
       "      <td>False</td>\n",
       "      <td>Breed_not_identified</td>\n",
       "      <td>0.066880</td>\n",
       "      <td>False</td>\n",
       "      <td>Breed_not_identified</td>\n",
       "      <td>0.025679</td>\n",
       "      <td>False</td>\n",
       "    </tr>\n",
       "    <tr>\n",
       "      <th>1358</th>\n",
       "      <td>760656994973933572</td>\n",
       "      <td>https://pbs.twimg.com/media/Co5lf-KW8AAIwJw.jpg</td>\n",
       "      <td>1</td>\n",
       "      <td>Golden_retriever</td>\n",
       "      <td>0.760546</td>\n",
       "      <td>True</td>\n",
       "      <td>Labrador_retriever</td>\n",
       "      <td>0.232079</td>\n",
       "      <td>True</td>\n",
       "      <td>Redbone</td>\n",
       "      <td>0.002874</td>\n",
       "      <td>True</td>\n",
       "    </tr>\n",
       "  </tbody>\n",
       "</table>\n",
       "</div>"
      ],
      "text/plain": [
       "                tweet_id                                          jpg_url  \\\n",
       "1423  772117678702071809  https://pbs.twimg.com/media/Crcc7pqXEAAM5O2.jpg   \n",
       "146   668627278264475648  https://pbs.twimg.com/media/CUdw9thWsAA4mB9.jpg   \n",
       "1490  782722598790725632  https://pbs.twimg.com/media/CtzKC7zXEAALfSo.jpg   \n",
       "1886  847962785489326080  https://pbs.twimg.com/media/C8SRpHNUIAARB3j.jpg   \n",
       "1358  760656994973933572  https://pbs.twimg.com/media/Co5lf-KW8AAIwJw.jpg   \n",
       "\n",
       "      img_num                    p1   p1_conf  p1_dog                    p2  \\\n",
       "1423        1    Labrador_retriever  0.217821    True                Beagle   \n",
       "146         1        French_bulldog  0.965403    True                   Pug   \n",
       "1490        1          Irish_setter  0.574557    True      Golden_retriever   \n",
       "1886        1  Breed_not_identified  0.882654   False  Breed_not_identified   \n",
       "1358        1      Golden_retriever  0.760546    True    Labrador_retriever   \n",
       "\n",
       "       p2_conf  p2_dog                    p3   p3_conf  p3_dog  \n",
       "1423  0.157677    True      Golden_retriever  0.127726    True  \n",
       "146   0.008604    True           Boston_bull  0.008004    True  \n",
       "1490  0.339251    True  Breed_not_identified  0.046108   False  \n",
       "1886  0.066880   False  Breed_not_identified  0.025679   False  \n",
       "1358  0.232079    True               Redbone  0.002874    True  "
      ]
     },
     "execution_count": 191,
     "metadata": {},
     "output_type": "execute_result"
    }
   ],
   "source": [
    "df2.sample(5)"
   ]
  },
  {
   "cell_type": "markdown",
   "metadata": {},
   "source": [
    "#### Define:\n",
    "\n",
    "p1, p1_dog, p2, p2_dog, p3, p3_dog column headers are confusing. p1_dog, p2_dog, and p3_dog are not needed anymore since \"Breed_not_identified\" was written in p1,p2,p3 if the value was False. \n",
    "\n",
    "Utilize the drop fuction to delete p1_dog, p2_dog, p3_dog.\n",
    "\n",
    "Label column header for p1 to be algo1_predicted_breed, p2 as algo2_predicted_breed, p3 as algo3_predicted_breed. \n",
    "\n",
    "Rename p1_conf, p2_conf and p3_conf as algo1_conf, algo2_conf, algo3_conf.\n",
    "\n",
    "#### Code:"
   ]
  },
  {
   "cell_type": "code",
   "execution_count": 192,
   "metadata": {},
   "outputs": [],
   "source": [
    "df2 = df2.drop(['p1_dog', 'p2_dog', 'p3_dog'], axis = 1)"
   ]
  },
  {
   "cell_type": "code",
   "execution_count": 193,
   "metadata": {},
   "outputs": [],
   "source": [
    "df2.rename(columns = {\"p1\" : \"algo1_predicted_breed\", \n",
    "                      \"p2\" : \"algo2_predicted_breed\",\n",
    "                      \"p3\" : \"algo3_predicted_breed\",\n",
    "                      \"p1_conf\" : \"algo1_conf\",\n",
    "                      \"p2_conf\" : \"algo2_conf\",\n",
    "                      \"p3_conf\" : \"algo3_conf\"}, inplace = True)"
   ]
  },
  {
   "cell_type": "markdown",
   "metadata": {},
   "source": [
    "#### Test:"
   ]
  },
  {
   "cell_type": "code",
   "execution_count": 194,
   "metadata": {},
   "outputs": [
    {
     "data": {
      "text/html": [
       "<div>\n",
       "<style scoped>\n",
       "    .dataframe tbody tr th:only-of-type {\n",
       "        vertical-align: middle;\n",
       "    }\n",
       "\n",
       "    .dataframe tbody tr th {\n",
       "        vertical-align: top;\n",
       "    }\n",
       "\n",
       "    .dataframe thead th {\n",
       "        text-align: right;\n",
       "    }\n",
       "</style>\n",
       "<table border=\"1\" class=\"dataframe\">\n",
       "  <thead>\n",
       "    <tr style=\"text-align: right;\">\n",
       "      <th></th>\n",
       "      <th>tweet_id</th>\n",
       "      <th>jpg_url</th>\n",
       "      <th>img_num</th>\n",
       "      <th>algo1_predicted_breed</th>\n",
       "      <th>algo1_conf</th>\n",
       "      <th>algo2_predicted_breed</th>\n",
       "      <th>algo2_conf</th>\n",
       "      <th>algo3_predicted_breed</th>\n",
       "      <th>algo3_conf</th>\n",
       "    </tr>\n",
       "  </thead>\n",
       "  <tbody>\n",
       "    <tr>\n",
       "      <th>774</th>\n",
       "      <td>689623661272240129</td>\n",
       "      <td>https://pbs.twimg.com/media/CZIJD2SWIAMJgNI.jpg</td>\n",
       "      <td>1</td>\n",
       "      <td>Toy_poodle</td>\n",
       "      <td>0.279604</td>\n",
       "      <td>Breed_not_identified</td>\n",
       "      <td>0.208564</td>\n",
       "      <td>Labrador_retriever</td>\n",
       "      <td>0.077481</td>\n",
       "    </tr>\n",
       "    <tr>\n",
       "      <th>1482</th>\n",
       "      <td>781163403222056960</td>\n",
       "      <td>https://pbs.twimg.com/media/Ctc_-BTWEAAQpZh.jpg</td>\n",
       "      <td>1</td>\n",
       "      <td>Shetland_sheepdog</td>\n",
       "      <td>0.973841</td>\n",
       "      <td>Collie</td>\n",
       "      <td>0.025188</td>\n",
       "      <td>Border_collie</td>\n",
       "      <td>0.000297</td>\n",
       "    </tr>\n",
       "    <tr>\n",
       "      <th>1127</th>\n",
       "      <td>727644517743104000</td>\n",
       "      <td>https://pbs.twimg.com/media/Chkc1BQUoAAa96R.jpg</td>\n",
       "      <td>2</td>\n",
       "      <td>Great_pyrenees</td>\n",
       "      <td>0.457164</td>\n",
       "      <td>Kuvasz</td>\n",
       "      <td>0.391710</td>\n",
       "      <td>Labrador_retriever</td>\n",
       "      <td>0.094523</td>\n",
       "    </tr>\n",
       "    <tr>\n",
       "      <th>375</th>\n",
       "      <td>672997845381865473</td>\n",
       "      <td>https://pbs.twimg.com/media/CVb39_1XIAAMoIv.jpg</td>\n",
       "      <td>1</td>\n",
       "      <td>Chow</td>\n",
       "      <td>0.517255</td>\n",
       "      <td>Pomeranian</td>\n",
       "      <td>0.206053</td>\n",
       "      <td>Breed_not_identified</td>\n",
       "      <td>0.127037</td>\n",
       "    </tr>\n",
       "    <tr>\n",
       "      <th>1683</th>\n",
       "      <td>813944609378369540</td>\n",
       "      <td>https://pbs.twimg.com/media/Cveg1-NXgAASaaT.jpg</td>\n",
       "      <td>1</td>\n",
       "      <td>Labrador_retriever</td>\n",
       "      <td>0.427742</td>\n",
       "      <td>Great_dane</td>\n",
       "      <td>0.190503</td>\n",
       "      <td>Curly-coated_retriever</td>\n",
       "      <td>0.146427</td>\n",
       "    </tr>\n",
       "  </tbody>\n",
       "</table>\n",
       "</div>"
      ],
      "text/plain": [
       "                tweet_id                                          jpg_url  \\\n",
       "774   689623661272240129  https://pbs.twimg.com/media/CZIJD2SWIAMJgNI.jpg   \n",
       "1482  781163403222056960  https://pbs.twimg.com/media/Ctc_-BTWEAAQpZh.jpg   \n",
       "1127  727644517743104000  https://pbs.twimg.com/media/Chkc1BQUoAAa96R.jpg   \n",
       "375   672997845381865473  https://pbs.twimg.com/media/CVb39_1XIAAMoIv.jpg   \n",
       "1683  813944609378369540  https://pbs.twimg.com/media/Cveg1-NXgAASaaT.jpg   \n",
       "\n",
       "      img_num algo1_predicted_breed  algo1_conf algo2_predicted_breed  \\\n",
       "774         1            Toy_poodle    0.279604  Breed_not_identified   \n",
       "1482        1     Shetland_sheepdog    0.973841                Collie   \n",
       "1127        2        Great_pyrenees    0.457164                Kuvasz   \n",
       "375         1                  Chow    0.517255            Pomeranian   \n",
       "1683        1    Labrador_retriever    0.427742            Great_dane   \n",
       "\n",
       "      algo2_conf   algo3_predicted_breed  algo3_conf  \n",
       "774     0.208564      Labrador_retriever    0.077481  \n",
       "1482    0.025188           Border_collie    0.000297  \n",
       "1127    0.391710      Labrador_retriever    0.094523  \n",
       "375     0.206053    Breed_not_identified    0.127037  \n",
       "1683    0.190503  Curly-coated_retriever    0.146427  "
      ]
     },
     "execution_count": 194,
     "metadata": {},
     "output_type": "execute_result"
    }
   ],
   "source": [
    "df2.sample(5)"
   ]
  },
  {
   "cell_type": "markdown",
   "metadata": {},
   "source": [
    "#### Define:\n",
    "The column 'img_num' is not useful. Delete it using drop function\n",
    "\n",
    "#### Code:"
   ]
  },
  {
   "cell_type": "code",
   "execution_count": 195,
   "metadata": {},
   "outputs": [],
   "source": [
    "df2 = df2.drop(['img_num'], axis = 1)"
   ]
  },
  {
   "cell_type": "markdown",
   "metadata": {},
   "source": [
    "#### Test:"
   ]
  },
  {
   "cell_type": "code",
   "execution_count": 196,
   "metadata": {},
   "outputs": [
    {
     "data": {
      "text/plain": [
       "['tweet_id',\n",
       " 'jpg_url',\n",
       " 'algo1_predicted_breed',\n",
       " 'algo1_conf',\n",
       " 'algo2_predicted_breed',\n",
       " 'algo2_conf',\n",
       " 'algo3_predicted_breed',\n",
       " 'algo3_conf']"
      ]
     },
     "execution_count": 196,
     "metadata": {},
     "output_type": "execute_result"
    }
   ],
   "source": [
    "list(df2)"
   ]
  },
  {
   "cell_type": "markdown",
   "metadata": {},
   "source": [
    "### df3 (Twitter API):\n",
    "\n",
    "#### Define:\n",
    "'retweet_count', and 'favorite_count' are wrong datatypes. Should be int64. Use astype to convert.\n",
    "\n",
    "#### Code:"
   ]
  },
  {
   "cell_type": "code",
   "execution_count": 197,
   "metadata": {},
   "outputs": [],
   "source": [
    "df3.retweet_count = df3.retweet_count.astype('int64')"
   ]
  },
  {
   "cell_type": "code",
   "execution_count": 198,
   "metadata": {},
   "outputs": [],
   "source": [
    "df3.favorite_count = df3.favorite_count.astype('int64')"
   ]
  },
  {
   "cell_type": "markdown",
   "metadata": {},
   "source": [
    "#### Test:"
   ]
  },
  {
   "cell_type": "code",
   "execution_count": 199,
   "metadata": {},
   "outputs": [
    {
     "data": {
      "text/plain": [
       "dtype('int64')"
      ]
     },
     "execution_count": 199,
     "metadata": {},
     "output_type": "execute_result"
    }
   ],
   "source": [
    "df3.retweet_count.dtypes"
   ]
  },
  {
   "cell_type": "code",
   "execution_count": 200,
   "metadata": {},
   "outputs": [
    {
     "data": {
      "text/plain": [
       "dtype('int64')"
      ]
     },
     "execution_count": 200,
     "metadata": {},
     "output_type": "execute_result"
    }
   ],
   "source": [
    "df3.favorite_count.dtypes"
   ]
  },
  {
   "cell_type": "markdown",
   "metadata": {},
   "source": [
    "## Tidiness"
   ]
  },
  {
   "cell_type": "markdown",
   "metadata": {},
   "source": [
    "### df1 (Archive):\n",
    "#### Define:\n",
    "\n",
    "The columns 'doggo', 'floofer', 'pupper','puppo' show one variable, but are in 4 separate columns. Replace 'None' with ' ' and use the concat function to string the 4 columns together. Delete dogs that have multiple stages by detecting if the string is longer than 7 characters. Change '' back to 'None'. \n",
    "\n",
    "#### Code:"
   ]
  },
  {
   "cell_type": "code",
   "execution_count": 201,
   "metadata": {},
   "outputs": [],
   "source": [
    "df1.doggo = df1.doggo.replace('None', '')\n",
    "df1.floofer = df1.floofer.replace('None', '')\n",
    "df1.pupper = df1.pupper.replace('None', '')\n",
    "df1.puppo = df1.puppo.replace('None', '')"
   ]
  },
  {
   "cell_type": "code",
   "execution_count": 202,
   "metadata": {},
   "outputs": [
    {
     "data": {
      "text/plain": [
       "         2011\n",
       "doggo      83\n",
       "Name: doggo, dtype: int64"
      ]
     },
     "execution_count": 202,
     "metadata": {},
     "output_type": "execute_result"
    }
   ],
   "source": [
    "df1.doggo.value_counts()"
   ]
  },
  {
   "cell_type": "code",
   "execution_count": 203,
   "metadata": {},
   "outputs": [],
   "source": [
    "df1['dog_stage']=df1.doggo.str.cat(df1.floofer).str.cat(df1.pupper).str.cat(df1.puppo)"
   ]
  },
  {
   "cell_type": "code",
   "execution_count": 204,
   "metadata": {},
   "outputs": [
    {
     "data": {
      "text/plain": [
       "                1759\n",
       "pupper           220\n",
       "doggo             72\n",
       "puppo             23\n",
       "doggopupper        9\n",
       "floofer            9\n",
       "doggopuppo         1\n",
       "doggofloofer       1\n",
       "Name: dog_stage, dtype: int64"
      ]
     },
     "execution_count": 204,
     "metadata": {},
     "output_type": "execute_result"
    }
   ],
   "source": [
    "df1.dog_stage.value_counts()"
   ]
  },
  {
   "cell_type": "code",
   "execution_count": 205,
   "metadata": {},
   "outputs": [],
   "source": [
    "df1.loc[df1['dog_stage'].str.len() > 8 , 'dog_stage'] = \"multiple\""
   ]
  },
  {
   "cell_type": "code",
   "execution_count": 206,
   "metadata": {},
   "outputs": [],
   "source": [
    "df1.dog_stage = df1.dog_stage.replace('', \"None\")"
   ]
  },
  {
   "cell_type": "code",
   "execution_count": 207,
   "metadata": {},
   "outputs": [],
   "source": [
    "df1 = df1.drop(['doggo', 'floofer', 'pupper', 'puppo'], axis = 1)"
   ]
  },
  {
   "cell_type": "markdown",
   "metadata": {},
   "source": [
    "#### Test:"
   ]
  },
  {
   "cell_type": "code",
   "execution_count": 208,
   "metadata": {
    "scrolled": true
   },
   "outputs": [
    {
     "data": {
      "text/plain": [
       "None        1759\n",
       "pupper       220\n",
       "doggo         72\n",
       "puppo         23\n",
       "multiple      11\n",
       "floofer        9\n",
       "Name: dog_stage, dtype: int64"
      ]
     },
     "execution_count": 208,
     "metadata": {},
     "output_type": "execute_result"
    }
   ],
   "source": [
    "df1.dog_stage.value_counts()"
   ]
  },
  {
   "cell_type": "code",
   "execution_count": 209,
   "metadata": {},
   "outputs": [
    {
     "data": {
      "text/html": [
       "<div>\n",
       "<style scoped>\n",
       "    .dataframe tbody tr th:only-of-type {\n",
       "        vertical-align: middle;\n",
       "    }\n",
       "\n",
       "    .dataframe tbody tr th {\n",
       "        vertical-align: top;\n",
       "    }\n",
       "\n",
       "    .dataframe thead th {\n",
       "        text-align: right;\n",
       "    }\n",
       "</style>\n",
       "<table border=\"1\" class=\"dataframe\">\n",
       "  <thead>\n",
       "    <tr style=\"text-align: right;\">\n",
       "      <th></th>\n",
       "      <th>tweet_id</th>\n",
       "      <th>timestamp</th>\n",
       "      <th>source</th>\n",
       "      <th>text</th>\n",
       "      <th>expanded_urls</th>\n",
       "      <th>rating_numerator</th>\n",
       "      <th>rating_denominator</th>\n",
       "      <th>name</th>\n",
       "      <th>dog_stage</th>\n",
       "    </tr>\n",
       "  </thead>\n",
       "  <tbody>\n",
       "    <tr>\n",
       "      <th>1193</th>\n",
       "      <td>717537687239008257</td>\n",
       "      <td>2016-04-06 02:21:30</td>\n",
       "      <td>&lt;a href=\"http://twitter.com/download/iphone\" r...</td>\n",
       "      <td>People please. This is a Deadly Mediterranean ...</td>\n",
       "      <td>https://twitter.com/dog_rates/status/717537687...</td>\n",
       "      <td>11</td>\n",
       "      <td>10</td>\n",
       "      <td>a</td>\n",
       "      <td>None</td>\n",
       "    </tr>\n",
       "    <tr>\n",
       "      <th>712</th>\n",
       "      <td>784431430411685888</td>\n",
       "      <td>2016-10-07 16:33:21</td>\n",
       "      <td>&lt;a href=\"http://twitter.com/download/iphone\" r...</td>\n",
       "      <td>This is Stormy. He's curly af. Already pupared...</td>\n",
       "      <td>https://twitter.com/dog_rates/status/784431430...</td>\n",
       "      <td>12</td>\n",
       "      <td>10</td>\n",
       "      <td>Stormy</td>\n",
       "      <td>None</td>\n",
       "    </tr>\n",
       "    <tr>\n",
       "      <th>1807</th>\n",
       "      <td>676916996760600576</td>\n",
       "      <td>2015-12-16 00:09:23</td>\n",
       "      <td>&lt;a href=\"http://vine.co\" rel=\"nofollow\"&gt;Vine -...</td>\n",
       "      <td>Super speedy pupper. Does not go gentle into t...</td>\n",
       "      <td>https://vine.co/v/imJ0BdZOJTw</td>\n",
       "      <td>10</td>\n",
       "      <td>10</td>\n",
       "      <td>None</td>\n",
       "      <td>pupper</td>\n",
       "    </tr>\n",
       "    <tr>\n",
       "      <th>229</th>\n",
       "      <td>848212111729840128</td>\n",
       "      <td>2017-04-01 16:35:01</td>\n",
       "      <td>&lt;a href=\"http://twitter.com/download/iphone\" r...</td>\n",
       "      <td>This is Jerry. He's doing a distinguished tong...</td>\n",
       "      <td>https://twitter.com/dog_rates/status/848212111...</td>\n",
       "      <td>6</td>\n",
       "      <td>10</td>\n",
       "      <td>Jerry</td>\n",
       "      <td>None</td>\n",
       "    </tr>\n",
       "    <tr>\n",
       "      <th>1078</th>\n",
       "      <td>739485634323156992</td>\n",
       "      <td>2016-06-05 15:54:48</td>\n",
       "      <td>&lt;a href=\"http://twitter.com/download/iphone\" r...</td>\n",
       "      <td>This is Kyle. He's a heavy drinker and an avid...</td>\n",
       "      <td>https://twitter.com/dog_rates/status/739485634...</td>\n",
       "      <td>6</td>\n",
       "      <td>10</td>\n",
       "      <td>Kyle</td>\n",
       "      <td>None</td>\n",
       "    </tr>\n",
       "  </tbody>\n",
       "</table>\n",
       "</div>"
      ],
      "text/plain": [
       "                tweet_id           timestamp  \\\n",
       "1193  717537687239008257 2016-04-06 02:21:30   \n",
       "712   784431430411685888 2016-10-07 16:33:21   \n",
       "1807  676916996760600576 2015-12-16 00:09:23   \n",
       "229   848212111729840128 2017-04-01 16:35:01   \n",
       "1078  739485634323156992 2016-06-05 15:54:48   \n",
       "\n",
       "                                                 source  \\\n",
       "1193  <a href=\"http://twitter.com/download/iphone\" r...   \n",
       "712   <a href=\"http://twitter.com/download/iphone\" r...   \n",
       "1807  <a href=\"http://vine.co\" rel=\"nofollow\">Vine -...   \n",
       "229   <a href=\"http://twitter.com/download/iphone\" r...   \n",
       "1078  <a href=\"http://twitter.com/download/iphone\" r...   \n",
       "\n",
       "                                                   text  \\\n",
       "1193  People please. This is a Deadly Mediterranean ...   \n",
       "712   This is Stormy. He's curly af. Already pupared...   \n",
       "1807  Super speedy pupper. Does not go gentle into t...   \n",
       "229   This is Jerry. He's doing a distinguished tong...   \n",
       "1078  This is Kyle. He's a heavy drinker and an avid...   \n",
       "\n",
       "                                          expanded_urls  rating_numerator  \\\n",
       "1193  https://twitter.com/dog_rates/status/717537687...                11   \n",
       "712   https://twitter.com/dog_rates/status/784431430...                12   \n",
       "1807                      https://vine.co/v/imJ0BdZOJTw                10   \n",
       "229   https://twitter.com/dog_rates/status/848212111...                 6   \n",
       "1078  https://twitter.com/dog_rates/status/739485634...                 6   \n",
       "\n",
       "      rating_denominator    name dog_stage  \n",
       "1193                  10       a      None  \n",
       "712                   10  Stormy      None  \n",
       "1807                  10    None    pupper  \n",
       "229                   10   Jerry      None  \n",
       "1078                  10    Kyle      None  "
      ]
     },
     "execution_count": 209,
     "metadata": {},
     "output_type": "execute_result"
    }
   ],
   "source": [
    "df1.sample(5)"
   ]
  },
  {
   "cell_type": "markdown",
   "metadata": {},
   "source": [
    "#### Define:\n",
    "\n",
    "All three files can be merged into one utilizing 'tweet_id' and merge function.\n",
    "\n",
    "#### Code:"
   ]
  },
  {
   "cell_type": "code",
   "execution_count": 210,
   "metadata": {},
   "outputs": [],
   "source": [
    "df_merged = df1.merge(df2,on='tweet_id').merge(df3,on='tweet_id')"
   ]
  },
  {
   "cell_type": "markdown",
   "metadata": {},
   "source": [
    "#### Test:"
   ]
  },
  {
   "cell_type": "code",
   "execution_count": 211,
   "metadata": {},
   "outputs": [
    {
     "data": {
      "text/html": [
       "<div>\n",
       "<style scoped>\n",
       "    .dataframe tbody tr th:only-of-type {\n",
       "        vertical-align: middle;\n",
       "    }\n",
       "\n",
       "    .dataframe tbody tr th {\n",
       "        vertical-align: top;\n",
       "    }\n",
       "\n",
       "    .dataframe thead th {\n",
       "        text-align: right;\n",
       "    }\n",
       "</style>\n",
       "<table border=\"1\" class=\"dataframe\">\n",
       "  <thead>\n",
       "    <tr style=\"text-align: right;\">\n",
       "      <th></th>\n",
       "      <th>tweet_id</th>\n",
       "      <th>timestamp</th>\n",
       "      <th>source</th>\n",
       "      <th>text</th>\n",
       "      <th>expanded_urls</th>\n",
       "      <th>rating_numerator</th>\n",
       "      <th>rating_denominator</th>\n",
       "      <th>name</th>\n",
       "      <th>dog_stage</th>\n",
       "      <th>jpg_url</th>\n",
       "      <th>algo1_predicted_breed</th>\n",
       "      <th>algo1_conf</th>\n",
       "      <th>algo2_predicted_breed</th>\n",
       "      <th>algo2_conf</th>\n",
       "      <th>algo3_predicted_breed</th>\n",
       "      <th>algo3_conf</th>\n",
       "      <th>retweet_count</th>\n",
       "      <th>favorite_count</th>\n",
       "    </tr>\n",
       "  </thead>\n",
       "  <tbody>\n",
       "    <tr>\n",
       "      <th>453</th>\n",
       "      <td>793500921481273345</td>\n",
       "      <td>2016-11-01 17:12:16</td>\n",
       "      <td>&lt;a href=\"http://twitter.com/download/iphone\" r...</td>\n",
       "      <td>This is Fiona. She's an extremely mediocre cop...</td>\n",
       "      <td>https://twitter.com/dog_rates/status/793500921...</td>\n",
       "      <td>12</td>\n",
       "      <td>10</td>\n",
       "      <td>Fiona</td>\n",
       "      <td>None</td>\n",
       "      <td>https://pbs.twimg.com/media/CwMU34YWIAAz1nU.jpg</td>\n",
       "      <td>Golden_retriever</td>\n",
       "      <td>0.326122</td>\n",
       "      <td>Labrador_retriever</td>\n",
       "      <td>0.219904</td>\n",
       "      <td>Chesapeake_bay_retriever</td>\n",
       "      <td>0.163366</td>\n",
       "      <td>2571</td>\n",
       "      <td>11317</td>\n",
       "    </tr>\n",
       "    <tr>\n",
       "      <th>1414</th>\n",
       "      <td>677918531514703872</td>\n",
       "      <td>2015-12-18 18:29:07</td>\n",
       "      <td>&lt;a href=\"http://twitter.com/download/iphone\" r...</td>\n",
       "      <td>\"Everything looks pretty good in there. Make s...</td>\n",
       "      <td>https://twitter.com/dog_rates/status/677918531...</td>\n",
       "      <td>10</td>\n",
       "      <td>10</td>\n",
       "      <td>None</td>\n",
       "      <td>None</td>\n",
       "      <td>https://pbs.twimg.com/media/CWhzTbzWUAAEAUN.jpg</td>\n",
       "      <td>Eskimo_dog</td>\n",
       "      <td>0.199347</td>\n",
       "      <td>Dalmatian</td>\n",
       "      <td>0.153225</td>\n",
       "      <td>American_staffordshire_terrier</td>\n",
       "      <td>0.107798</td>\n",
       "      <td>430</td>\n",
       "      <td>1385</td>\n",
       "    </tr>\n",
       "    <tr>\n",
       "      <th>1023</th>\n",
       "      <td>705970349788291072</td>\n",
       "      <td>2016-03-05 04:17:02</td>\n",
       "      <td>&lt;a href=\"http://twitter.com/download/iphone\" r...</td>\n",
       "      <td>This is Lucy. She's a Venetian Kerploof. Suppo...</td>\n",
       "      <td>https://twitter.com/dog_rates/status/705970349...</td>\n",
       "      <td>12</td>\n",
       "      <td>10</td>\n",
       "      <td>Lucy</td>\n",
       "      <td>None</td>\n",
       "      <td>https://pbs.twimg.com/media/CcwcSS9WwAALE4f.jpg</td>\n",
       "      <td>Golden_retriever</td>\n",
       "      <td>0.776346</td>\n",
       "      <td>Labrador_retriever</td>\n",
       "      <td>0.112413</td>\n",
       "      <td>Chow</td>\n",
       "      <td>0.036953</td>\n",
       "      <td>928</td>\n",
       "      <td>3243</td>\n",
       "    </tr>\n",
       "    <tr>\n",
       "      <th>1777</th>\n",
       "      <td>669567591774625800</td>\n",
       "      <td>2015-11-25 17:25:28</td>\n",
       "      <td>&lt;a href=\"http://twitter.com/download/iphone\" r...</td>\n",
       "      <td>Meet Kollin. He's a Parakeetian Badminton from...</td>\n",
       "      <td>https://twitter.com/dog_rates/status/669567591...</td>\n",
       "      <td>9</td>\n",
       "      <td>10</td>\n",
       "      <td>Kollin</td>\n",
       "      <td>None</td>\n",
       "      <td>https://pbs.twimg.com/media/CUrIK1DWoAAhECq.jpg</td>\n",
       "      <td>Chihuahua</td>\n",
       "      <td>0.980511</td>\n",
       "      <td>Toy_terrier</td>\n",
       "      <td>0.009166</td>\n",
       "      <td>Miniature_pinscher</td>\n",
       "      <td>0.002659</td>\n",
       "      <td>55</td>\n",
       "      <td>235</td>\n",
       "    </tr>\n",
       "    <tr>\n",
       "      <th>1061</th>\n",
       "      <td>701981390485725185</td>\n",
       "      <td>2016-02-23 04:06:20</td>\n",
       "      <td>&lt;a href=\"http://twitter.com/download/iphone\" r...</td>\n",
       "      <td>This is Fiji. She's a Powdered Stegafloof. Ver...</td>\n",
       "      <td>https://twitter.com/dog_rates/status/701981390...</td>\n",
       "      <td>12</td>\n",
       "      <td>10</td>\n",
       "      <td>Fiji</td>\n",
       "      <td>None</td>\n",
       "      <td>https://pbs.twimg.com/media/Cb3wWWbWEAAy06k.jpg</td>\n",
       "      <td>Pomeranian</td>\n",
       "      <td>0.491022</td>\n",
       "      <td>Breed_not_identified</td>\n",
       "      <td>0.130879</td>\n",
       "      <td>Yorkshire_terrier</td>\n",
       "      <td>0.099241</td>\n",
       "      <td>1039</td>\n",
       "      <td>3567</td>\n",
       "    </tr>\n",
       "  </tbody>\n",
       "</table>\n",
       "</div>"
      ],
      "text/plain": [
       "                tweet_id           timestamp  \\\n",
       "453   793500921481273345 2016-11-01 17:12:16   \n",
       "1414  677918531514703872 2015-12-18 18:29:07   \n",
       "1023  705970349788291072 2016-03-05 04:17:02   \n",
       "1777  669567591774625800 2015-11-25 17:25:28   \n",
       "1061  701981390485725185 2016-02-23 04:06:20   \n",
       "\n",
       "                                                 source  \\\n",
       "453   <a href=\"http://twitter.com/download/iphone\" r...   \n",
       "1414  <a href=\"http://twitter.com/download/iphone\" r...   \n",
       "1023  <a href=\"http://twitter.com/download/iphone\" r...   \n",
       "1777  <a href=\"http://twitter.com/download/iphone\" r...   \n",
       "1061  <a href=\"http://twitter.com/download/iphone\" r...   \n",
       "\n",
       "                                                   text  \\\n",
       "453   This is Fiona. She's an extremely mediocre cop...   \n",
       "1414  \"Everything looks pretty good in there. Make s...   \n",
       "1023  This is Lucy. She's a Venetian Kerploof. Suppo...   \n",
       "1777  Meet Kollin. He's a Parakeetian Badminton from...   \n",
       "1061  This is Fiji. She's a Powdered Stegafloof. Ver...   \n",
       "\n",
       "                                          expanded_urls  rating_numerator  \\\n",
       "453   https://twitter.com/dog_rates/status/793500921...                12   \n",
       "1414  https://twitter.com/dog_rates/status/677918531...                10   \n",
       "1023  https://twitter.com/dog_rates/status/705970349...                12   \n",
       "1777  https://twitter.com/dog_rates/status/669567591...                 9   \n",
       "1061  https://twitter.com/dog_rates/status/701981390...                12   \n",
       "\n",
       "      rating_denominator    name dog_stage  \\\n",
       "453                   10   Fiona      None   \n",
       "1414                  10    None      None   \n",
       "1023                  10    Lucy      None   \n",
       "1777                  10  Kollin      None   \n",
       "1061                  10    Fiji      None   \n",
       "\n",
       "                                              jpg_url algo1_predicted_breed  \\\n",
       "453   https://pbs.twimg.com/media/CwMU34YWIAAz1nU.jpg      Golden_retriever   \n",
       "1414  https://pbs.twimg.com/media/CWhzTbzWUAAEAUN.jpg            Eskimo_dog   \n",
       "1023  https://pbs.twimg.com/media/CcwcSS9WwAALE4f.jpg      Golden_retriever   \n",
       "1777  https://pbs.twimg.com/media/CUrIK1DWoAAhECq.jpg             Chihuahua   \n",
       "1061  https://pbs.twimg.com/media/Cb3wWWbWEAAy06k.jpg            Pomeranian   \n",
       "\n",
       "      algo1_conf algo2_predicted_breed  algo2_conf  \\\n",
       "453     0.326122    Labrador_retriever    0.219904   \n",
       "1414    0.199347             Dalmatian    0.153225   \n",
       "1023    0.776346    Labrador_retriever    0.112413   \n",
       "1777    0.980511           Toy_terrier    0.009166   \n",
       "1061    0.491022  Breed_not_identified    0.130879   \n",
       "\n",
       "               algo3_predicted_breed  algo3_conf  retweet_count  \\\n",
       "453         Chesapeake_bay_retriever    0.163366           2571   \n",
       "1414  American_staffordshire_terrier    0.107798            430   \n",
       "1023                            Chow    0.036953            928   \n",
       "1777              Miniature_pinscher    0.002659             55   \n",
       "1061               Yorkshire_terrier    0.099241           1039   \n",
       "\n",
       "      favorite_count  \n",
       "453            11317  \n",
       "1414            1385  \n",
       "1023            3243  \n",
       "1777             235  \n",
       "1061            3567  "
      ]
     },
     "execution_count": 211,
     "metadata": {},
     "output_type": "execute_result"
    }
   ],
   "source": [
    "df_merged.sample(5)"
   ]
  },
  {
   "cell_type": "code",
   "execution_count": 212,
   "metadata": {},
   "outputs": [],
   "source": [
    "#Store final data frame in twitter_archive_master\n",
    "twitter_archive_master = df_merged.copy()"
   ]
  },
  {
   "cell_type": "code",
   "execution_count": 213,
   "metadata": {},
   "outputs": [],
   "source": [
    "twitter_archive_master.to_csv('twitter_archive_master.csv', encoding='utf-8', index=False)"
   ]
  },
  {
   "cell_type": "code",
   "execution_count": 214,
   "metadata": {},
   "outputs": [
    {
     "name": "stdout",
     "output_type": "stream",
     "text": [
      "<class 'pandas.core.frame.DataFrame'>\n",
      "Int64Index: 1967 entries, 0 to 1966\n",
      "Data columns (total 18 columns):\n",
      "tweet_id                 1967 non-null object\n",
      "timestamp                1967 non-null datetime64[ns]\n",
      "source                   1967 non-null object\n",
      "text                     1967 non-null object\n",
      "expanded_urls            1967 non-null object\n",
      "rating_numerator         1967 non-null int64\n",
      "rating_denominator       1967 non-null int64\n",
      "name                     1967 non-null object\n",
      "dog_stage                1967 non-null object\n",
      "jpg_url                  1967 non-null object\n",
      "algo1_predicted_breed    1967 non-null object\n",
      "algo1_conf               1967 non-null float64\n",
      "algo2_predicted_breed    1967 non-null object\n",
      "algo2_conf               1967 non-null float64\n",
      "algo3_predicted_breed    1967 non-null object\n",
      "algo3_conf               1967 non-null float64\n",
      "retweet_count            1967 non-null int64\n",
      "favorite_count           1967 non-null int64\n",
      "dtypes: datetime64[ns](1), float64(3), int64(4), object(10)\n",
      "memory usage: 292.0+ KB\n"
     ]
    }
   ],
   "source": [
    "twitter_archive_master.info()"
   ]
  },
  {
   "cell_type": "markdown",
   "metadata": {},
   "source": [
    "<a id='eda'></a>\n",
    "## Exploratory Data Analysis\n",
    "\n",
    "Now that we have a clean dataframe to work with, let's start analyzing.\n",
    "\n",
    "Questions to answer:\n",
    "\n",
    "1. What is the relationship between retweet_count and favorite_count?\n",
    "2. What is the relationship between confidence value and whether the image was identified as a dog? Which algorithm appears to be the best?\n",
    "3. Which breed of dogs gets most retweeted?\n",
    "4. At what time of day do tweets get the most favorites?\n"
   ]
  },
  {
   "cell_type": "markdown",
   "metadata": {},
   "source": [
    "#### Retweets and Favorites\n",
    "\n",
    "Let's look at the relationship between retweet count and favorite count with a scatter plot."
   ]
  },
  {
   "cell_type": "code",
   "execution_count": 215,
   "metadata": {
    "scrolled": true
   },
   "outputs": [
    {
     "data": {
      "image/png": "[encoded data removed]",
      "text/plain": [
       "<Figure size 432x288 with 1 Axes>"
      ]
     },
     "metadata": {
      "needs_background": "light"
     },
     "output_type": "display_data"
    }
   ],
   "source": [
    "# Scatter plot of favorites and retweets.\n",
    "plt.xlim(0, 8000)\n",
    "plt.ylim(0, 8000)\n",
    "plt.scatter(data = twitter_archive_master, x = 'favorite_count', y = 'retweet_count', s = 0.7)\n",
    "plt.title('Analysis of WeRateDogs Favorites and Retweets');\n",
    "plt.xlabel('Favorites Count');\n",
    "plt.ylabel('Retweets Count');"
   ]
  },
  {
   "cell_type": "code",
   "execution_count": 216,
   "metadata": {
    "scrolled": true
   },
   "outputs": [
    {
     "data": {
      "image/png": "[encoded data removed]",
      "text/plain": [
       "<Figure size 432x288 with 1 Axes>"
      ]
     },
     "metadata": {
      "needs_background": "light"
     },
     "output_type": "display_data"
    }
   ],
   "source": [
    "plt.xlim(0, 8000);\n",
    "plt.ylim(0, 8000);\n",
    "sb.regplot(data = twitter_archive_master, x = 'favorite_count', y = 'retweet_count', scatter_kws={'s':2})\n",
    "plt.title('Analysis of WeRateDogs Favorites and Retweets');\n",
    "plt.xlabel('Favorites Count');\n",
    "plt.ylabel('Retweets Count');"
   ]
  },
  {
   "cell_type": "markdown",
   "metadata": {},
   "source": [
    "There's a linear and upward trending relationship between favorites and retweets, which is to be expected. What does log 10 graph look like."
   ]
  },
  {
   "cell_type": "code",
   "execution_count": 217,
   "metadata": {
    "scrolled": true
   },
   "outputs": [
    {
     "data": {
      "image/png": "[encoded data removed]",
      "text/plain": [
       "<Figure size 864x576 with 1 Axes>"
      ]
     },
     "metadata": {
      "needs_background": "light"
     },
     "output_type": "display_data"
    }
   ],
   "source": [
    "# Log10 scatter plot of favorites and retweets.\n",
    "plt.figure(figsize=(12, 8))\n",
    "plt.xlabel('Favorites Count')\n",
    "plt.ylabel('Retweets Count')\n",
    "plt.plot(np.log10(twitter_archive_master.favorite_count), np.log10(twitter_archive_master.retweet_count), \n",
    "           linestyle='', marker='o', markersize=0.7)\n",
    "plt.title('Scatter Plot of Log10 Favorites and Retweets');"
   ]
  },
  {
   "cell_type": "markdown",
   "metadata": {},
   "source": [
    "But what is the relationship between the two variables. Let's run a regression to find out."
   ]
  },
  {
   "cell_type": "code",
   "execution_count": 218,
   "metadata": {
    "scrolled": false
   },
   "outputs": [
    {
     "data": {
      "text/html": [
       "<table class=\"simpletable\">\n",
       "<caption>OLS Regression Results</caption>\n",
       "<tr>\n",
       "  <th>Dep. Variable:</th>     <td>favorite_count</td>  <th>  R-squared:         </th> <td>   0.864</td> \n",
       "</tr>\n",
       "<tr>\n",
       "  <th>Model:</th>                   <td>OLS</td>       <th>  Adj. R-squared:    </th> <td>   0.864</td> \n",
       "</tr>\n",
       "<tr>\n",
       "  <th>Method:</th>             <td>Least Squares</td>  <th>  F-statistic:       </th> <td>1.251e+04</td>\n",
       "</tr>\n",
       "<tr>\n",
       "  <th>Date:</th>             <td>Thu, 30 May 2019</td> <th>  Prob (F-statistic):</th>  <td>  0.00</td>  \n",
       "</tr>\n",
       "<tr>\n",
       "  <th>Time:</th>                 <td>01:59:22</td>     <th>  Log-Likelihood:    </th> <td> -19408.</td> \n",
       "</tr>\n",
       "<tr>\n",
       "  <th>No. Observations:</th>      <td>  1967</td>      <th>  AIC:               </th> <td>3.882e+04</td>\n",
       "</tr>\n",
       "<tr>\n",
       "  <th>Df Residuals:</th>          <td>  1965</td>      <th>  BIC:               </th> <td>3.883e+04</td>\n",
       "</tr>\n",
       "<tr>\n",
       "  <th>Df Model:</th>              <td>     1</td>      <th>                     </th>     <td> </td>    \n",
       "</tr>\n",
       "<tr>\n",
       "  <th>Covariance Type:</th>      <td>nonrobust</td>    <th>                     </th>     <td> </td>    \n",
       "</tr>\n",
       "</table>\n",
       "<table class=\"simpletable\">\n",
       "<tr>\n",
       "        <td></td>           <th>coef</th>     <th>std err</th>      <th>t</th>      <th>P>|t|</th>  <th>[0.025</th>    <th>0.975]</th>  \n",
       "</tr>\n",
       "<tr>\n",
       "  <th>intercept</th>     <td> 2039.5165</td> <td>  120.652</td> <td>   16.904</td> <td> 0.000</td> <td> 1802.897</td> <td> 2276.136</td>\n",
       "</tr>\n",
       "<tr>\n",
       "  <th>retweet_count</th> <td>    2.5177</td> <td>    0.023</td> <td>  111.860</td> <td> 0.000</td> <td>    2.474</td> <td>    2.562</td>\n",
       "</tr>\n",
       "</table>\n",
       "<table class=\"simpletable\">\n",
       "<tr>\n",
       "  <th>Omnibus:</th>       <td>521.195</td> <th>  Durbin-Watson:     </th> <td>   0.767</td> \n",
       "</tr>\n",
       "<tr>\n",
       "  <th>Prob(Omnibus):</th> <td> 0.000</td>  <th>  Jarque-Bera (JB):  </th> <td>16551.015</td>\n",
       "</tr>\n",
       "<tr>\n",
       "  <th>Skew:</th>          <td> 0.580</td>  <th>  Prob(JB):          </th> <td>    0.00</td> \n",
       "</tr>\n",
       "<tr>\n",
       "  <th>Kurtosis:</th>      <td>17.163</td>  <th>  Cond. No.          </th> <td>6.15e+03</td> \n",
       "</tr>\n",
       "</table><br/><br/>Warnings:<br/>[1] Standard Errors assume that the covariance matrix of the errors is correctly specified.<br/>[2] The condition number is large, 6.15e+03. This might indicate that there are<br/>strong multicollinearity or other numerical problems."
      ],
      "text/plain": [
       "<class 'statsmodels.iolib.summary.Summary'>\n",
       "\"\"\"\n",
       "                            OLS Regression Results                            \n",
       "==============================================================================\n",
       "Dep. Variable:         favorite_count   R-squared:                       0.864\n",
       "Model:                            OLS   Adj. R-squared:                  0.864\n",
       "Method:                 Least Squares   F-statistic:                 1.251e+04\n",
       "Date:                Thu, 30 May 2019   Prob (F-statistic):               0.00\n",
       "Time:                        01:59:22   Log-Likelihood:                -19408.\n",
       "No. Observations:                1967   AIC:                         3.882e+04\n",
       "Df Residuals:                    1965   BIC:                         3.883e+04\n",
       "Df Model:                           1                                         \n",
       "Covariance Type:            nonrobust                                         \n",
       "=================================================================================\n",
       "                    coef    std err          t      P>|t|      [0.025      0.975]\n",
       "---------------------------------------------------------------------------------\n",
       "intercept      2039.5165    120.652     16.904      0.000    1802.897    2276.136\n",
       "retweet_count     2.5177      0.023    111.860      0.000       2.474       2.562\n",
       "==============================================================================\n",
       "Omnibus:                      521.195   Durbin-Watson:                   0.767\n",
       "Prob(Omnibus):                  0.000   Jarque-Bera (JB):            16551.015\n",
       "Skew:                           0.580   Prob(JB):                         0.00\n",
       "Kurtosis:                      17.163   Cond. No.                     6.15e+03\n",
       "==============================================================================\n",
       "\n",
       "Warnings:\n",
       "[1] Standard Errors assume that the covariance matrix of the errors is correctly specified.\n",
       "[2] The condition number is large, 6.15e+03. This might indicate that there are\n",
       "strong multicollinearity or other numerical problems.\n",
       "\"\"\""
      ]
     },
     "execution_count": 218,
     "metadata": {},
     "output_type": "execute_result"
    }
   ],
   "source": [
    "twitter_archive_master['intercept']=1\n",
    "lm=sm.OLS(twitter_archive_master['favorite_count'],twitter_archive_master[['intercept','retweet_count']])\n",
    "results= lm.fit()\n",
    "results.summary()"
   ]
  },
  {
   "cell_type": "markdown",
   "metadata": {},
   "source": [
    "For every 2.5 favorites, a WeRateDogs tweet will be retweeted."
   ]
  },
  {
   "cell_type": "markdown",
   "metadata": {},
   "source": [
    "#### Confidence Intervals and Breed Identification\n",
    "\n",
    "One of the data sets ran the WeRateDogs Twitter archive through a neural netwrok that can classify breeds of dogs. p1 is the algorithm's first prediction, p2 is the algorithm's second prediction, and so on. \n",
    "\n",
    "Let's look at the histogram of confidence levels for the algorithm's first prediction."
   ]
  },
  {
   "cell_type": "code",
   "execution_count": 219,
   "metadata": {},
   "outputs": [],
   "source": [
    "a = len(twitter_archive_master.query(\"algo1_predicted_breed =='Breed_not_identified'\"))/len(twitter_archive_master)"
   ]
  },
  {
   "cell_type": "code",
   "execution_count": 220,
   "metadata": {},
   "outputs": [],
   "source": [
    "b = len(twitter_archive_master.query(\"algo2_predicted_breed =='Breed_not_identified'\"))/len(twitter_archive_master)"
   ]
  },
  {
   "cell_type": "code",
   "execution_count": 221,
   "metadata": {
    "scrolled": true
   },
   "outputs": [],
   "source": [
    "c = len(twitter_archive_master.query(\"algo3_predicted_breed =='Breed_not_identified'\"))/len(twitter_archive_master)"
   ]
  },
  {
   "cell_type": "code",
   "execution_count": 222,
   "metadata": {
    "scrolled": true
   },
   "outputs": [
    {
     "data": {
      "text/html": [
       "<div>\n",
       "<style scoped>\n",
       "    .dataframe tbody tr th:only-of-type {\n",
       "        vertical-align: middle;\n",
       "    }\n",
       "\n",
       "    .dataframe tbody tr th {\n",
       "        vertical-align: top;\n",
       "    }\n",
       "\n",
       "    .dataframe thead th {\n",
       "        text-align: right;\n",
       "    }\n",
       "</style>\n",
       "<table border=\"1\" class=\"dataframe\">\n",
       "  <thead>\n",
       "    <tr style=\"text-align: right;\">\n",
       "      <th></th>\n",
       "      <th>Prediction number</th>\n",
       "      <th>Percentage that is Actually a Dog Breed</th>\n",
       "    </tr>\n",
       "  </thead>\n",
       "  <tbody>\n",
       "    <tr>\n",
       "      <th>0</th>\n",
       "      <td>1st Prediction</td>\n",
       "      <td>0.258261</td>\n",
       "    </tr>\n",
       "    <tr>\n",
       "      <th>1</th>\n",
       "      <td>2nd Prediction</td>\n",
       "      <td>0.249619</td>\n",
       "    </tr>\n",
       "    <tr>\n",
       "      <th>2</th>\n",
       "      <td>3rd Prediction</td>\n",
       "      <td>0.274530</td>\n",
       "    </tr>\n",
       "  </tbody>\n",
       "</table>\n",
       "</div>"
      ],
      "text/plain": [
       "  Prediction number  Percentage that is Actually a Dog Breed\n",
       "0    1st Prediction                                 0.258261\n",
       "1    2nd Prediction                                 0.249619\n",
       "2    3rd Prediction                                 0.274530"
      ]
     },
     "execution_count": 222,
     "metadata": {},
     "output_type": "execute_result"
    }
   ],
   "source": [
    "tmp = {'Prediction number': ['1st Prediction', '2nd Prediction', '3rd Prediction'], 'Percentage that is Actually a Dog Breed': [a,b,c]}\n",
    "tmp = pd.DataFrame(data=tmp)\n",
    "tmp"
   ]
  },
  {
   "cell_type": "code",
   "execution_count": 223,
   "metadata": {},
   "outputs": [
    {
     "data": {
      "image/png": "[encoded data removed]",
      "text/plain": [
       "<Figure size 432x288 with 1 Axes>"
      ]
     },
     "metadata": {
      "needs_background": "light"
     },
     "output_type": "display_data"
    }
   ],
   "source": [
    "ax = sb.barplot(data = tmp, x = tmp['Prediction number'], y = tmp[\"Percentage that is Actually a Dog Breed\"]*100)\n",
    "plt.ylim(0, 100);\n",
    "plt.title('Percentage that a Dog Breed was Predicited');"
   ]
  },
  {
   "cell_type": "code",
   "execution_count": 224,
   "metadata": {
    "scrolled": true
   },
   "outputs": [
    {
     "data": {
      "image/png": "[encoded data removed]",
      "text/plain": [
       "<Figure size 576x360 with 1 Axes>"
      ]
     },
     "metadata": {
      "needs_background": "light"
     },
     "output_type": "display_data"
    }
   ],
   "source": [
    "plt.figure(figsize=(8, 5))\n",
    "plt.xlim(0, 1)\n",
    "plt.xlabel('Confidence')\n",
    "plt.ylabel('Count')\n",
    "plt.hist(x = twitter_archive_master.algo1_conf, \n",
    "    edgecolor='white', linewidth=1.2)\n",
    "plt.title('Histogram of Confidence Factor For First Prediction');"
   ]
  },
  {
   "cell_type": "markdown",
   "metadata": {},
   "source": [
    "This chart shows all confidence intervals, including whether the image prediction was actually a breed of dog or not."
   ]
  },
  {
   "cell_type": "code",
   "execution_count": 225,
   "metadata": {},
   "outputs": [
    {
     "data": {
      "image/png": "[encoded data removed]",
      "text/plain": [
       "<Figure size 576x360 with 1 Axes>"
      ]
     },
     "metadata": {
      "needs_background": "light"
     },
     "output_type": "display_data"
    }
   ],
   "source": [
    "plt.figure(figsize=(8, 5))\n",
    "plt.xlim(0, 1)\n",
    "plt.xlabel('Confidence')\n",
    "plt.ylabel('Count')\n",
    "plt.hist(x = twitter_archive_master.query(\"algo1_predicted_breed =='Breed_not_identified'\").algo1_conf, \n",
    "    edgecolor='white', linewidth=1.2)\n",
    "plt.title('Histogram of Confidence Factor For First Prediction that are Not Dog Breeds');"
   ]
  },
  {
   "cell_type": "markdown",
   "metadata": {},
   "source": [
    "Predictions that are not breeds generally follow the same curve as those that are. It's interesting to see there is a spike at .9-1.0 when the image has definitively been misidentified. It could be the case that an image had a \"ball\" or some other object in it and that was identified."
   ]
  },
  {
   "cell_type": "code",
   "execution_count": 226,
   "metadata": {
    "scrolled": true
   },
   "outputs": [
    {
     "data": {
      "image/png": "[encoded data removed]",
      "text/plain": [
       "<Figure size 576x360 with 1 Axes>"
      ]
     },
     "metadata": {
      "needs_background": "light"
     },
     "output_type": "display_data"
    }
   ],
   "source": [
    "plt.figure(figsize=(8, 5))\n",
    "plt.xlim(0, 1)\n",
    "plt.xlabel('Confidence')\n",
    "plt.ylabel('Count')\n",
    "plt.hist(x = twitter_archive_master.query(\"algo1_predicted_breed !='Breed_not_identified'\").algo1_conf, \n",
    "    edgecolor='white', linewidth=1.2)\n",
    "plt.title('Histogram of Confidence Factor For First Prediction that are Dog Breeds');"
   ]
  },
  {
   "cell_type": "markdown",
   "metadata": {},
   "source": [
    "Overlay of images that were predicted as breeds and as something else"
   ]
  },
  {
   "cell_type": "code",
   "execution_count": 227,
   "metadata": {
    "scrolled": true
   },
   "outputs": [
    {
     "data": {
      "image/png": "[encoded data removed]",
      "text/plain": [
       "<Figure size 576x360 with 1 Axes>"
      ]
     },
     "metadata": {
      "needs_background": "light"
     },
     "output_type": "display_data"
    }
   ],
   "source": [
    "plt.figure(figsize=(8, 5))\n",
    "plt.xlim(0, 1)\n",
    "plt.xlabel('Confidence')\n",
    "plt.ylabel('Count')\n",
    "plt.hist(x = twitter_archive_master.query(\"algo1_predicted_breed!='Breed_not_identified'\").algo1_conf, \n",
    "    alpha=.5, label='# Breed Identified')\n",
    "plt.hist(x = twitter_archive_master.query(\"algo1_predicted_breed=='Breed_not_identified'\").algo1_conf, \n",
    "    alpha=.5, label='# Breed Not Identified')\n",
    "plt.title('Histogram of Confidence Factor For First Prediction');\n",
    "plt.legend();"
   ]
  },
  {
   "cell_type": "code",
   "execution_count": 228,
   "metadata": {},
   "outputs": [
    {
     "data": {
      "image/png": "[encoded data removed]",
      "text/plain": [
       "<Figure size 576x360 with 1 Axes>"
      ]
     },
     "metadata": {
      "needs_background": "light"
     },
     "output_type": "display_data"
    }
   ],
   "source": [
    "plt.figure(figsize=(8, 5))\n",
    "plt.xlim(0, 1)\n",
    "plt.xlabel('Confidence')\n",
    "plt.ylabel('Count')\n",
    "plt.hist(x = twitter_archive_master.query(\"algo2_predicted_breed!='Breed_not_identified'\").algo1_conf, \n",
    "    alpha=.5, label='# Breed Identified')\n",
    "plt.hist(x = twitter_archive_master.query(\"algo2_predicted_breed=='Breed_not_identified'\").algo1_conf, \n",
    "    alpha=.5, label='# Breed Not Identified')\n",
    "plt.title('Histogram of Confidence Factor For Second Prediction');\n",
    "plt.legend();"
   ]
  },
  {
   "cell_type": "code",
   "execution_count": 229,
   "metadata": {
    "scrolled": true
   },
   "outputs": [
    {
     "data": {
      "image/png": "[encoded data removed]",
      "text/plain": [
       "<Figure size 576x360 with 1 Axes>"
      ]
     },
     "metadata": {
      "needs_background": "light"
     },
     "output_type": "display_data"
    }
   ],
   "source": [
    "plt.figure(figsize=(8, 5))\n",
    "plt.xlim(0, 1)\n",
    "plt.xlabel('Confidence')\n",
    "plt.ylabel('Count')\n",
    "plt.hist(x = twitter_archive_master.query(\"algo3_predicted_breed!='Breed_not_identified'\").algo1_conf, \n",
    "    alpha=.5, label='# Breed Identified')\n",
    "plt.hist(x = twitter_archive_master.query(\"algo3_predicted_breed=='Breed_not_identified'\").algo1_conf, \n",
    "    alpha=.5, label='# Breed Not Identified')\n",
    "plt.title('Histogram of Confidence Factor For Algorithm 3');\n",
    "plt.legend();"
   ]
  },
  {
   "cell_type": "code",
   "execution_count": 230,
   "metadata": {
    "scrolled": true
   },
   "outputs": [
    {
     "data": {
      "image/png": "[encoded data removed]",
      "text/plain": [
       "<Figure size 576x360 with 1 Axes>"
      ]
     },
     "metadata": {
      "needs_background": "light"
     },
     "output_type": "display_data"
    }
   ],
   "source": [
    "plt.figure(figsize=(8, 5))\n",
    "plt.xlim(0, 1)\n",
    "plt.xlabel('Confidence')\n",
    "plt.ylabel('Count')\n",
    "plt.hist(x = twitter_archive_master.query(\"algo1_predicted_breed!='Breed_not_identified'\").algo1_conf, \n",
    "    alpha=.5, label='# Breed Identified Algorithm 1')\n",
    "plt.hist(x = twitter_archive_master.query(\"algo1_predicted_breed=='Breed_not_identified'\").algo1_conf, \n",
    "    alpha=.5, label='# Breed Not Identified Algorithm 1')\n",
    "plt.hist(x = twitter_archive_master.query(\"algo2_predicted_breed!='Breed_not_identified'\").algo1_conf, \n",
    "    alpha=.5, label='# Breed Identified Algorithm 2')\n",
    "plt.hist(x = twitter_archive_master.query(\"algo2_predicted_breed=='Breed_not_identified'\").algo1_conf, \n",
    "    alpha=.5, label='# Breed Not Identified Algorithm 2')\n",
    "plt.hist(x = twitter_archive_master.query(\"algo3_predicted_breed!='Breed_not_identified'\").algo1_conf, \n",
    "    alpha=.5, label='# Breed Identified Algorithm 3')\n",
    "plt.hist(x = twitter_archive_master.query(\"algo3_predicted_breed=='Breed_not_identified'\").algo1_conf, \n",
    "    alpha=.5, label='# Breed Not Identified Algorithm 3')\n",
    "plt.title('Histogram of Confidence Factor For Algorithm 1');\n",
    "plt.legend();"
   ]
  },
  {
   "cell_type": "markdown",
   "metadata": {},
   "source": [
    "The shapes are generally the same for any of the predictions"
   ]
  },
  {
   "cell_type": "markdown",
   "metadata": {},
   "source": [
    "#### Which breed of dog is most retweeted?"
   ]
  },
  {
   "cell_type": "code",
   "execution_count": 231,
   "metadata": {
    "scrolled": true
   },
   "outputs": [
    {
     "data": {
      "text/html": [
       "<div>\n",
       "<style scoped>\n",
       "    .dataframe tbody tr th:only-of-type {\n",
       "        vertical-align: middle;\n",
       "    }\n",
       "\n",
       "    .dataframe tbody tr th {\n",
       "        vertical-align: top;\n",
       "    }\n",
       "\n",
       "    .dataframe thead th {\n",
       "        text-align: right;\n",
       "    }\n",
       "</style>\n",
       "<table border=\"1\" class=\"dataframe\">\n",
       "  <thead>\n",
       "    <tr style=\"text-align: right;\">\n",
       "      <th></th>\n",
       "      <th>algo1_predicted_breed</th>\n",
       "      <th>retweet_count</th>\n",
       "    </tr>\n",
       "  </thead>\n",
       "  <tbody>\n",
       "    <tr>\n",
       "      <th>44</th>\n",
       "      <td>Golden_retriever</td>\n",
       "      <td>471651</td>\n",
       "    </tr>\n",
       "    <tr>\n",
       "      <th>60</th>\n",
       "      <td>Labrador_retriever</td>\n",
       "      <td>329728</td>\n",
       "    </tr>\n",
       "    <tr>\n",
       "      <th>78</th>\n",
       "      <td>Pembroke</td>\n",
       "      <td>262737</td>\n",
       "    </tr>\n",
       "    <tr>\n",
       "      <th>26</th>\n",
       "      <td>Chihuahua</td>\n",
       "      <td>211564</td>\n",
       "    </tr>\n",
       "    <tr>\n",
       "      <th>86</th>\n",
       "      <td>Samoyed</td>\n",
       "      <td>163525</td>\n",
       "    </tr>\n",
       "    <tr>\n",
       "      <th>40</th>\n",
       "      <td>French_bulldog</td>\n",
       "      <td>113394</td>\n",
       "    </tr>\n",
       "    <tr>\n",
       "      <th>27</th>\n",
       "      <td>Chow</td>\n",
       "      <td>110621</td>\n",
       "    </tr>\n",
       "    <tr>\n",
       "      <th>79</th>\n",
       "      <td>Pomeranian</td>\n",
       "      <td>101220</td>\n",
       "    </tr>\n",
       "    <tr>\n",
       "      <th>29</th>\n",
       "      <td>Cocker_spaniel</td>\n",
       "      <td>93390</td>\n",
       "    </tr>\n",
       "    <tr>\n",
       "      <th>38</th>\n",
       "      <td>Eskimo_dog</td>\n",
       "      <td>91872</td>\n",
       "    </tr>\n",
       "  </tbody>\n",
       "</table>\n",
       "</div>"
      ],
      "text/plain": [
       "   algo1_predicted_breed  retweet_count\n",
       "44      Golden_retriever         471651\n",
       "60    Labrador_retriever         329728\n",
       "78              Pembroke         262737\n",
       "26             Chihuahua         211564\n",
       "86               Samoyed         163525\n",
       "40        French_bulldog         113394\n",
       "27                  Chow         110621\n",
       "79            Pomeranian         101220\n",
       "29        Cocker_spaniel          93390\n",
       "38            Eskimo_dog          91872"
      ]
     },
     "execution_count": 231,
     "metadata": {},
     "output_type": "execute_result"
    }
   ],
   "source": [
    "breed_retweeted = twitter_archive_master[\n",
    "    twitter_archive_master.algo1_predicted_breed != 'Breed_not_identified']\n",
    "breed_retweeted = breed_retweeted.groupby(\n",
    "    'algo1_predicted_breed').sum().reset_index()\n",
    "breed_retweeted = breed_retweeted[[\n",
    "    'algo1_predicted_breed', 'retweet_count']]\n",
    "breed_retweeted = breed_retweeted.sort_values(\n",
    "    'retweet_count', ascending = False)[0:10]\n",
    "breed_retweeted"
   ]
  },
  {
   "cell_type": "code",
   "execution_count": 232,
   "metadata": {
    "scrolled": true
   },
   "outputs": [
    {
     "data": {
      "image/png": "[encoded data removed]",
      "text/plain": [
       "<Figure size 432x288 with 1 Axes>"
      ]
     },
     "metadata": {
      "needs_background": "light"
     },
     "output_type": "display_data"
    }
   ],
   "source": [
    "plt.barh(breed_retweeted.algo1_predicted_breed, breed_retweeted.retweet_count);\n",
    "plt.ylabel('Breed of dog');\n",
    "plt.xlabel('Number of retweets');\n",
    "plt.title('Which breed of dog gets most retweeted');"
   ]
  },
  {
   "cell_type": "markdown",
   "metadata": {},
   "source": [
    "Keep in mind, the breed is not actually confirmed with the image, it's just been confirmed that the prediction was a breed of dog. Interesting that retrievers are the top retweet with goldens leading the pack."
   ]
  },
  {
   "cell_type": "markdown",
   "metadata": {},
   "source": [
    "#### At what time does a tweet get the most favorites?"
   ]
  },
  {
   "cell_type": "code",
   "execution_count": 233,
   "metadata": {},
   "outputs": [],
   "source": [
    "tmp = twitter_archive_master[[\"timestamp\",\"favorite_count\"]]"
   ]
  },
  {
   "cell_type": "code",
   "execution_count": 234,
   "metadata": {
    "scrolled": false
   },
   "outputs": [],
   "source": [
    "tmp[\"hour\"] = tmp.timestamp.dt.hour"
   ]
  },
  {
   "cell_type": "code",
   "execution_count": 235,
   "metadata": {},
   "outputs": [],
   "source": [
    "array=tmp.groupby('hour')['favorite_count'].sum()"
   ]
  },
  {
   "cell_type": "code",
   "execution_count": 236,
   "metadata": {
    "scrolled": false
   },
   "outputs": [
    {
     "data": {
      "image/png": "[encoded data removed]",
      "text/plain": [
       "<Figure size 432x288 with 1 Axes>"
      ]
     },
     "metadata": {
      "needs_background": "light"
     },
     "output_type": "display_data"
    }
   ],
   "source": [
    "plt.plot(tmp.groupby('hour')['favorite_count'].sum());\n",
    "plt.xlabel('Time of day the original tweet occurred (24 hours)');\n",
    "plt.ylabel('Number of favorites');\n",
    "plt.title('When do most favorites occur');\n",
    "plt.xlim(0, 23);\n",
    "plt.ylim(0, 3500000);"
   ]
  },
  {
   "cell_type": "markdown",
   "metadata": {},
   "source": [
    "A tweet written at midnight gets the most favorites. The next spike is around 4pm. However, it's not easy to interpret the timestamp. From the twitter developer page, timestamp is recorded in UTC (Greenwich) which is the time in London. This is 6 hours ahead of the Central Time Zone. The peak time occurred at midnight (or 6pm CST) and 4pm (10am CST). I decided to leave this in UTC because I travel quite often and it's easier to convert from that timezone. This data does not tell us when the favorite occurred. "
   ]
  },
  {
   "cell_type": "markdown",
   "metadata": {},
   "source": [
    "<a id='conclusions'></a>\n",
    "## Conclusions\n",
    "\n",
    "On average there is 2.5 favorites for every retweet.\n",
    "\n",
    "The image prediction was not very accurate. It only identified a dog breed 25% of the time. The confidence interval histogram was the same shape whether a dog breed was identified or not (though at a lower count).\n",
    "\n",
    "Golden retrievers were the most retweeted dog followed by laborador retrievers.\n",
    "\n",
    "A tweet written at midnight (UTC) gets the most favorites. The next spike is around 4pm.\n",
    "\n",
    "\n",
    "### Limitations\n",
    "\n",
    "One of the biggest issues with the image identification is that we don't have a confirmation whether or not the predicted breed actually matched the dog pictured. It's concerning that some of the predictions that were not dog breeds, but other objects had a high confidence level of above 0.9. There is a chance that the non-dog object was actually in the image (a ball, paper towel, etc) but one would have expected that the histogram of confidence be more right skewed.\n",
    "\n",
    "Another issue is with the timezone. The data does not tell us when the favorite occurred, only when the tweet was first published. If WeRateDogs is wanting the chance for the most favorites, they would need to convert the 00:00 and 16:00 to their current timezone. It would be interesting to see the amount of favorites and retweets of all twitter handles at that time had the same trend as WeRateDogs."
   ]
  }
 ],
 "metadata": {
  "kernelspec": {
   "display_name": "Python 3",
   "language": "python",
   "name": "python3"
  },
  "language_info": {
   "codemirror_mode": {
    "name": "ipython",
    "version": 3
   },
   "file_extension": ".py",
   "mimetype": "text/x-python",
   "name": "python",
   "nbconvert_exporter": "python",
   "pygments_lexer": "ipython3",
   "version": "3.7.1"
  }
 },
 "nbformat": 4,
 "nbformat_minor": 2
}
